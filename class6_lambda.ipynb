{
 "cells": [
  {
   "cell_type": "code",
   "execution_count": 1,
   "id": "1dcbcb84-07e7-4d82-bf37-468931b41977",
   "metadata": {},
   "outputs": [
    {
     "data": {
      "text/plain": [
       "<function __main__.<lambda>(x, y)>"
      ]
     },
     "execution_count": 1,
     "metadata": {},
     "output_type": "execute_result"
    }
   ],
   "source": [
    "lambda x,y : x+y"
   ]
  },
  {
   "cell_type": "code",
   "execution_count": 2,
   "id": "989ea8d1-f3fb-4317-a191-9aeafc6c4c41",
   "metadata": {},
   "outputs": [
    {
     "ename": "TypeError",
     "evalue": "<lambda>() missing 1 required positional argument: 'y'",
     "output_type": "error",
     "traceback": [
      "\u001b[1;31m---------------------------------------------------------------------------\u001b[0m",
      "\u001b[1;31mTypeError\u001b[0m                                 Traceback (most recent call last)",
      "Cell \u001b[1;32mIn[2], line 2\u001b[0m\n\u001b[0;32m      1\u001b[0m add\u001b[38;5;241m=\u001b[39m \u001b[38;5;28;01mlambda\u001b[39;00m x,y : x\u001b[38;5;241m+\u001b[39my\n\u001b[1;32m----> 2\u001b[0m \u001b[43madd\u001b[49m\u001b[43m(\u001b[49m\u001b[38;5;241;43m5\u001b[39;49m\u001b[43m)\u001b[49m\n",
      "\u001b[1;31mTypeError\u001b[0m: <lambda>() missing 1 required positional argument: 'y'"
     ]
    }
   ],
   "source": [
    "add= lambda x,y : x+y\n",
    "add(5)"
   ]
  },
  {
   "cell_type": "code",
   "execution_count": 3,
   "id": "bcf5f51d-b58b-4225-a3ed-1a00354878a4",
   "metadata": {},
   "outputs": [
    {
     "data": {
      "text/plain": [
       "9"
      ]
     },
     "execution_count": 3,
     "metadata": {},
     "output_type": "execute_result"
    }
   ],
   "source": [
    "add= lambda x,y : x+y\n",
    "add(5,4)"
   ]
  },
  {
   "cell_type": "code",
   "execution_count": 8,
   "id": "e983904a-8581-410b-b25c-f3ddc8d406f6",
   "metadata": {},
   "outputs": [
    {
     "data": {
      "text/plain": [
       "7"
      ]
     },
     "execution_count": 8,
     "metadata": {},
     "output_type": "execute_result"
    }
   ],
   "source": [
    "add= lambda x,y : x+y\n",
    "x=4\n",
    "y=3\n",
    "add(x,y)"
   ]
  },
  {
   "cell_type": "markdown",
   "id": "1a20e5e2-c0f2-40ac-8294-50504d4c9bd3",
   "metadata": {
    "jp-MarkdownHeadingCollapsed": true
   },
   "source": [
    "functionality____lambda functions"
   ]
  },
  {
   "cell_type": "code",
   "execution_count": 10,
   "id": "8f1beb82-100c-4f3b-83b6-bee3fe9268cf",
   "metadata": {},
   "outputs": [
    {
     "data": {
      "text/plain": [
       "4"
      ]
     },
     "execution_count": 10,
     "metadata": {},
     "output_type": "execute_result"
    }
   ],
   "source": [
    "aa = lambda x,y : x \n",
    "aa(x,y)"
   ]
  },
  {
   "cell_type": "code",
   "execution_count": 11,
   "id": "7f9dc93f-1be4-4fb7-ab3e-e43421cb75c2",
   "metadata": {},
   "outputs": [
    {
     "data": {
      "text/plain": [
       "0"
      ]
     },
     "execution_count": 11,
     "metadata": {},
     "output_type": "execute_result"
    }
   ],
   "source": [
    "aa = lambda x,y : x \n",
    "aa(0,1)"
   ]
  },
  {
   "cell_type": "code",
   "execution_count": 13,
   "id": "fe20cc77-9842-42e8-8012-2330dc414413",
   "metadata": {},
   "outputs": [
    {
     "data": {
      "text/plain": [
       "1"
      ]
     },
     "execution_count": 13,
     "metadata": {},
     "output_type": "execute_result"
    }
   ],
   "source": [
    "aa = lambda x,y : y \n",
    "aa(0,1)"
   ]
  },
  {
   "cell_type": "code",
   "execution_count": 15,
   "id": "9d7306b6-01bd-4e57-9797-c0ea198af1f1",
   "metadata": {},
   "outputs": [
    {
     "data": {
      "text/plain": [
       "1"
      ]
     },
     "execution_count": 15,
     "metadata": {},
     "output_type": "execute_result"
    }
   ],
   "source": [
    "a1 = lambda x,y :x\n",
    "a2 = lambda x,y :y\n",
    "a1(1,0)\n",
    "a2(0,1)"
   ]
  },
  {
   "cell_type": "code",
   "execution_count": 16,
   "id": "7e65aba1-c6c4-4a7c-94d7-1f72528c84df",
   "metadata": {},
   "outputs": [
    {
     "data": {
      "text/plain": [
       "0"
      ]
     },
     "execution_count": 16,
     "metadata": {},
     "output_type": "execute_result"
    }
   ],
   "source": [
    "a1 = lambda x,y :x\n",
    "a2 = lambda x,y :y\n",
    "a1(1,0)\n",
    "a2(1,0)"
   ]
  },
  {
   "cell_type": "code",
   "execution_count": 17,
   "id": "642d7845-1e31-4728-ba4f-55af1336e232",
   "metadata": {},
   "outputs": [
    {
     "data": {
      "text/plain": [
       "'even'"
      ]
     },
     "execution_count": 17,
     "metadata": {},
     "output_type": "execute_result"
    }
   ],
   "source": [
    "a1 = lambda n : n%2 and 'odd' or 'even'\n",
    "a1(4)"
   ]
  },
  {
   "cell_type": "code",
   "execution_count": 18,
   "id": "7dd0c9a6-cf9b-4269-830a-cd3b4e032224",
   "metadata": {},
   "outputs": [
    {
     "data": {
      "text/plain": [
       "'odd'"
      ]
     },
     "execution_count": 18,
     "metadata": {},
     "output_type": "execute_result"
    }
   ],
   "source": [
    "a1 = lambda n : n%2 and 'odd' or 'even'\n",
    "a1(5)"
   ]
  },
  {
   "cell_type": "code",
   "execution_count": 20,
   "id": "98f3800e-40f6-4759-8484-47d5f2559b69",
   "metadata": {},
   "outputs": [
    {
     "data": {
      "text/plain": [
       "'not prime'"
      ]
     },
     "execution_count": 20,
     "metadata": {},
     "output_type": "execute_result"
    }
   ],
   "source": [
    "a1 = lambda n ,c,d : n%d and 'not prime' or 'prime'\n",
    "a1(5,0,2)"
   ]
  },
  {
   "cell_type": "code",
   "execution_count": 21,
   "id": "112214cf-c5a6-4892-8b7d-982d308d1d82",
   "metadata": {},
   "outputs": [
    {
     "data": {
      "text/plain": [
       "'prime'"
      ]
     },
     "execution_count": 21,
     "metadata": {},
     "output_type": "execute_result"
    }
   ],
   "source": [
    "a1 = lambda n ,c,d : n%d and 'not prime' or 'prime'\n",
    "a1(8,0,2)"
   ]
  },
  {
   "cell_type": "code",
   "execution_count": null,
   "id": "e152817d-b6ff-4799-b5d6-b2ac538bbcbc",
   "metadata": {},
   "outputs": [],
   "source": []
  }
 ],
 "metadata": {
  "kernelspec": {
   "display_name": "Python 3 (ipykernel)",
   "language": "python",
   "name": "python3"
  },
  "language_info": {
   "codemirror_mode": {
    "name": "ipython",
    "version": 3
   },
   "file_extension": ".py",
   "mimetype": "text/x-python",
   "name": "python",
   "nbconvert_exporter": "python",
   "pygments_lexer": "ipython3",
   "version": "3.12.2"
  }
 },
 "nbformat": 4,
 "nbformat_minor": 5
}
