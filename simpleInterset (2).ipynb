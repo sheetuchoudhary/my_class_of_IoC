{
 "cells": [
  {
   "cell_type": "code",
   "execution_count": 1,
   "id": "6e72b0b2-e35d-4cbc-9231-67ae8dd98f64",
   "metadata": {},
   "outputs": [
    {
     "name": "stdout",
     "output_type": "stream",
     "text": [
      "Simple Interest :  60.0\n",
      "Final Amount :  1060.0\n"
     ]
    }
   ],
   "source": [
    "# Write a Program to calculate simple interest and add it to the priciple amount \n",
    "P_amount = 1000\n",
    "Rate = 6\n",
    "Time_y = 1\n",
    "Sim_In = ((P_amount)*(Rate)*(Time_y))/100\n",
    "print(\"Simple Interest : \",Sim_In)\n",
    "F_amount = P_amount + Sim_In\n",
    "print(\"Final Amount : \",F_amount)"
   ]
  },
  {
   "cell_type": "code",
   "execution_count": 2,
   "id": "56eac28d-92f3-4818-b8b7-fdcc64031458",
   "metadata": {},
   "outputs": [
    {
     "name": "stdout",
     "output_type": "stream",
     "text": [
      "Simple Interest :  60\n",
      "Final Amount :  1060\n"
     ]
    }
   ],
   "source": [
    "# Write a Program to calculate simple interest and add it to the priciple amount \n",
    "P_amount = 1000\n",
    "Rate = 6\n",
    "Time_y = 1\n",
    "Sim_In = ((P_amount)*(Rate)*(Time_y))/100\n",
    "print(\"Simple Interest : \",int(Sim_In))\n",
    "F_amount = P_amount + Sim_In\n",
    "print(\"Final Amount : \",int(F_amount))"
   ]
  },
  {
   "cell_type": "code",
   "execution_count": 3,
   "id": "077e811c-9ac1-46af-a9ff-38f9d1aec946",
   "metadata": {},
   "outputs": [
    {
     "name": "stdout",
     "output_type": "stream",
     "text": [
      "Final Amount :  1060\n"
     ]
    }
   ],
   "source": [
    "# Write a Program to calculate simple interest and add it to the priciple amount \n",
    "P_amount = 1000\n",
    "Rate = 6\n",
    "Time_y = 1\n",
    "Sim_In = ((P_amount)*(Rate)*(Time_y))/100\n",
    "#print(\"Simple Interest : \",int(Sim_In))\n",
    "F_amount = P_amount + Sim_In\n",
    "print(\"Final Amount : \",int(F_amount))"
   ]
  },
  {
   "cell_type": "code",
   "execution_count": 4,
   "id": "d79a1445-77b3-43d1-94f6-55b790a71d3b",
   "metadata": {},
   "outputs": [
    {
     "name": "stdout",
     "output_type": "stream",
     "text": [
      "1060\n"
     ]
    }
   ],
   "source": [
    "# Write a Program to calculate simple interest and add it to the priciple amount \n",
    "P_amount = 1000\n",
    "Rate = 6\n",
    "Time_y = 1\n",
    "Sim_In = ((P_amount)*(Rate)*(Time_y))/100\n",
    "F_amount = P_amount + Sim_In\n",
    "print(int(F_amount))\n"
   ]
  },
  {
   "cell_type": "code",
   "execution_count": null,
   "id": "9db58ef4-08c2-41f9-8a2b-913a8e0d2fb2",
   "metadata": {},
   "outputs": [],
   "source": []
  }
 ],
 "metadata": {
  "kernelspec": {
   "display_name": "Python 3 (ipykernel)",
   "language": "python",
   "name": "python3"
  },
  "language_info": {
   "codemirror_mode": {
    "name": "ipython",
    "version": 3
   },
   "file_extension": ".py",
   "mimetype": "text/x-python",
   "name": "python",
   "nbconvert_exporter": "python",
   "pygments_lexer": "ipython3",
   "version": "3.12.2"
  }
 },
 "nbformat": 4,
 "nbformat_minor": 5
}
