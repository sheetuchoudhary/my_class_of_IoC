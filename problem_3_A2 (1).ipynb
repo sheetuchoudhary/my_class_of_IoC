{
 "cells": [
  {
   "cell_type": "markdown",
   "id": "3bda3bbd-8526-400f-ad86-1eaee6ece99b",
   "metadata": {},
   "source": [
    "_____________PROBLEM_3____________"
   ]
  },
  {
   "cell_type": "code",
   "execution_count": 8,
   "id": "f6ff3cf2-a27b-4802-810e-c9119b13ac3a",
   "metadata": {},
   "outputs": [
    {
     "name": "stdout",
     "output_type": "stream",
     "text": [
      "1 :  [10, 5, 3, 3, 8, 0]\n",
      "2 :  [10, 5, 3, 3, 8, 0, 20]\n",
      "3 :  [0, 3, 3, 5, 8, 10, 20]\n",
      "4 :  [0, 3, 3, 5, 8, 10, 20, [2, 7, 5]]\n",
      "5 :  [[2, 7, 5], 20, 10, 8, 5, 3, 3, 0]\n",
      "6 :  [[2, 7, 5], 20, 8, 5, 3, 3, 0]\n",
      "7 :  [[2, 7, 5], 20, 8, 5, 3, 3, 0, 2, 7, 5]\n",
      "8 :  2\n",
      "9 :  5\n",
      "10 :  [[2, 7, 5], 20, 8, 3, 3, 0, 2, 7, 5]\n",
      "11 : []\n"
     ]
    }
   ],
   "source": [
    "a=[1,5,3,3,8,0]\n",
    "a[0] = 10\n",
    "print('1 : ',a)#1\n",
    "\n",
    "a.append(20)\n",
    "print('2 : ',a)#2\n",
    "\n",
    "a.sort()\n",
    "print('3 : ',a)#3\n",
    "\n",
    "a.append([2,7,5])\n",
    "print('4 : ',a)#4\n",
    "\n",
    "a.reverse()\n",
    "print('5 : ',a)#5\n",
    "\n",
    "a.remove(10)\n",
    "print('6 : ',a)#6\n",
    "\n",
    "b= [2,7,5]\n",
    "a.extend(b)\n",
    "print('7 : ',a)#7\n",
    "\n",
    "c=a.count(5)\n",
    "print('8 : ',c)#8\n",
    "\n",
    "d=a.pop(3)\n",
    "print('9 : ',d)#9\n",
    "\n",
    "e=a.copy()\n",
    "print('10 : ',e)#10\n",
    "\n",
    "f=a.clear()\n",
    "print('11 :',a)#11\n"
   ]
  },
  {
   "cell_type": "markdown",
   "id": "1e1a3037-e7b8-4af7-9d32-788782ed1cce",
   "metadata": {},
   "source": [
    "______________________________________________________________________________________________________________________"
   ]
  },
  {
   "cell_type": "code",
   "execution_count": 30,
   "id": "847688d4-d56b-4b9f-ba5c-ac44d9ca2bb4",
   "metadata": {},
   "outputs": [
    {
     "name": "stdout",
     "output_type": "stream",
     "text": [
      "1 :  (1, 5, 3, 3, 8, 0)\n",
      "2 :  1\n",
      "3 :  2\n",
      "4 :  6\n",
      "5 : (3, 3, 8)\n",
      "6 : (0, 1, 3, 3, 5, 8)\n",
      "7 :  1 5 3 3 8 0\n",
      "8 :  (1, 5, 3, 3, 8, 0, 11, 22, 33, 44)\n",
      "9 :  (1, 5, 3, 3, 8, 0, 1, 5, 3, 3, 8, 0, 1, 5, 3, 3, 8, 0)\n"
     ]
    }
   ],
   "source": [
    "a=(1,5,3,3,8,0)\n",
    "print('1 : ',a)#1\n",
    "\n",
    "b=a.count(5)\n",
    "print('2 : ',b)#2\n",
    "\n",
    "i = a.index(3)\n",
    "print('3 : ', i)#3\n",
    "\n",
    "l = len(a)\n",
    "print('4 : ',l) #4\n",
    "\n",
    "s = a[2:5]  \n",
    "print('5 :', s)#5\n",
    "\n",
    "s_t = tuple(sorted(a))#6\n",
    "print('6 :', s_t) \n",
    "\n",
    "m,n,o,p,q,r = a\n",
    "print('7 : ', m,n,o,p,q,r)#7\n",
    "\n",
    "new = (11,22,33,44)\n",
    "add = a + new\n",
    "print('8 : ',add)#8\n",
    "\n",
    "multi = a * 3\n",
    "print('9 : ', multi) #9\n",
    "\n"
   ]
  },
  {
   "cell_type": "markdown",
   "id": "2b08fcc7-49a5-4a0b-bccc-32b8c6ce4d3f",
   "metadata": {},
   "source": [
    "____________________________________________________________________________________________________________________________"
   ]
  },
  {
   "cell_type": "code",
   "execution_count": 45,
   "id": "ecea57bd-989a-4716-ae8b-3b81edad3641",
   "metadata": {},
   "outputs": [
    {
     "name": "stdout",
     "output_type": "stream",
     "text": [
      "1 :  {'a': 1, 'b': 2, 'c': 3}\n",
      "2 :  3\n",
      "3 :  dict_keys(['a', 'b', 'c'])\n",
      "4 :  dict_values([1, 2, 3])\n",
      "5 :  dict_items([('a', 1), ('b', 2), ('c', 3)])\n",
      "6 :  1\n",
      "7 :  2 \n",
      " {'a': 1, 'c': 3}\n",
      "8 :  ('c', 3)\n",
      "9 :  {'a': 1, 'c': 5, 'd': 6, 'e': 7}\n",
      "10 :  {}\n"
     ]
    }
   ],
   "source": [
    "a= {'a':1,'b':2,'c':3}\n",
    "print('1 : ',a)#1\n",
    "\n",
    "b = len(a)\n",
    "print('2 : ',b)#2\n",
    "\n",
    "c= a.keys()\n",
    "print('3 : ',c)#3\n",
    "\n",
    "d = a.values()\n",
    "print('4 : ',d)#4\n",
    "\n",
    "e = a.items()\n",
    "print('5 : ',e)#5\n",
    "\n",
    "f = a.get('a')\n",
    "print('6 : ',f)#6\n",
    "\n",
    "g = a.pop('b')\n",
    "print('7 : ',g,'\\n',a)#7\n",
    "\n",
    "h = a.popitem()\n",
    "print('8 : ',h)#8\n",
    "\n",
    "i = {'c':5 , 'd':6 , 'e':7}\n",
    "a.update(i)\n",
    "print('9 : ',a)#9\n",
    "\n",
    "a.clear()\n",
    "print('10 : ',a)#10\n"
   ]
  },
  {
   "cell_type": "markdown",
   "id": "d3e56f0d-0cb4-4aec-bdb1-125a91abe99b",
   "metadata": {},
   "source": [
    "________________________________________________________________________________________________________________________"
   ]
  },
  {
   "cell_type": "code",
   "execution_count": 2,
   "id": "0d9394ea-4490-49ac-bc5e-bf0bcb0819bb",
   "metadata": {},
   "outputs": [
    {
     "name": "stdout",
     "output_type": "stream",
     "text": [
      "Total price: $ 27\n"
     ]
    }
   ],
   "source": [
    "l1 =[(\"abc\", 2),(\"xyz\", 3),(\"pqr\", 1)]\n",
    "for i in l1:\n",
    "    print(\"name: \",i[0],\" id: \",i[1])"
   ]
  },
  {
   "cell_type": "markdown",
   "id": "95465e5b-45f6-4573-b0bb-0ee35e1859f7",
   "metadata": {},
   "source": [
    "_______________________________________________________________________________________________________________________________________________________"
   ]
  },
  {
   "cell_type": "code",
   "execution_count": 32,
   "id": "37e2f83e-c57c-4260-8768-4273c8516e6f",
   "metadata": {},
   "outputs": [
    {
     "name": "stdout",
     "output_type": "stream",
     "text": [
      "The listed data with in a tuple : \n",
      "['a', 'b']\n",
      "['radhe', 'krishna']\n",
      "[1, 2, 3]\n",
      "Adding data with in a first list of tuple :\n",
      "['a', 'b', 'z']\n",
      "Adding the last list data to a first list of tuple :\n",
      "Using extend :   ['a', 'b', 'z', 1, 2, 3]\n",
      "Using append :   ['a', 'b', 'z', 1, 2, 3, [1, 2, 3]]\n"
     ]
    }
   ],
   "source": [
    "l2= (['a', 'b'], ['radhe','krishna'], [1, 2, 3])\n",
    "print('The listed data with in a tuple : ')\n",
    "for i in range(0,len(l2)):\n",
    "    print(l2[i])  \n",
    "\n",
    "print('Adding data with in a first list of tuple :')\n",
    "l2[0].append('z')\n",
    "print(l2[0])  \n",
    "\n",
    "print('Adding the last list data to a first list of tuple :')\n",
    "l2[0].extend(l2[2])\n",
    "print('Using extend :  ',l2[0])\n",
    "l2[0].append(new[2])\n",
    "print('Using append :  ',l2[0])\n",
    "\n"
   ]
  },
  {
   "cell_type": "markdown",
   "id": "866e9387-0a6e-4776-9d45-a205ed0f2501",
   "metadata": {},
   "source": [
    "________________________________________________________________________________________________________________________________________________________"
   ]
  },
  {
   "cell_type": "code",
   "execution_count": 4,
   "id": "75836ea8-20e9-49ad-8448-4c0bb5974326",
   "metadata": {},
   "outputs": [
    {
     "name": "stdout",
     "output_type": "stream",
     "text": [
      "items :  [('Copy', 10), ('Pen', 5), ('Color', 12)]\n",
      "\n",
      "Adding all the prices : \n",
      "Total price: $ 27\n"
     ]
    }
   ],
   "source": [
    "items = [(\"Copy\", 10), (\"Pen\", 5), (\"Color\", 12)]\n",
    "print('items : ',items)\n",
    "print('\\nAdding all the prices : ')\n",
    "total = 0\n",
    "for name, price in items:\n",
    "    total += price\n",
    "print(\"Total price: $\",total)"
   ]
  },
  {
   "cell_type": "markdown",
   "id": "2c57b540-e771-4155-829b-b953e540df1a",
   "metadata": {},
   "source": [
    "________________________________________________________________________________________________________________________________________________________"
   ]
  },
  {
   "cell_type": "code",
   "execution_count": 39,
   "id": "e02541dc-c725-4c9b-bab6-bac1d3439cb6",
   "metadata": {},
   "outputs": [
    {
     "name": "stdout",
     "output_type": "stream",
     "text": [
      "(90, 'excellent', 'pass')\n",
      "(65, 'good', 'pass')\n",
      "(20, 'work hard', 'fail')\n",
      "Calling all last value of a value from every key : \n",
      "pass\n",
      "pass\n",
      "fail\n"
     ]
    }
   ],
   "source": [
    "details = {'hindi': (90, 'excellent','pass'),'english': (65, 'good','pass'),'maths': (20, 'work hard','fail')}\n",
    "\n",
    "print(details['hindi'])\n",
    "print(details['english'])\n",
    "print(details['maths'])\n",
    "\n",
    "print('Calling all last value of a value from every key : ')\n",
    "print(details['hindi'][2]) \n",
    "print(details['english'][2])\n",
    "print(details['maths'][2]) "
   ]
  },
  {
   "cell_type": "markdown",
   "id": "32783b6e-a191-4240-a818-706d96164bdf",
   "metadata": {},
   "source": [
    "________________________________________________________________________________________________________________________________________________________"
   ]
  },
  {
   "cell_type": "code",
   "execution_count": 55,
   "id": "35bafa3b-937d-4882-98cf-3ecf5b694f58",
   "metadata": {},
   "outputs": [
    {
     "name": "stdout",
     "output_type": "stream",
     "text": [
      "the initial :- \n",
      "  {'first': [1, 2, 3], 'second': ['a', 'b', 'c'], 'third': []}\n",
      "\n",
      "appending and extending the first and second keys values :- \n",
      "the values :- \n",
      "[1, 2, 3, 4]\n",
      "['a', 'b', 'c', 'd', 'e']\n",
      "[]\n",
      "\n",
      "adding values in last key :-\n",
      "['abc']\n",
      "\n",
      "the key and value :-\n",
      "first :  [1, 2, 3, 4]\n",
      "second :  ['a', 'b', 'c', 'd', 'e']\n",
      "third :  ['abc']\n"
     ]
    }
   ],
   "source": [
    "\n",
    "d = {'first': [1, 2, 3],'second': ['a', 'b', 'c'],'third': []}\n",
    "print('the initial :- \\n ',d)\n",
    "print('\\nappending and extending the first and second keys values :- ')\n",
    "d['first'].append(4)\n",
    "d['second'].extend(['d', 'e'])\n",
    "\n",
    "print('the values :- ')\n",
    "print(d['first'])  \n",
    "print(d['second'])  \n",
    "print(d['third'])  \n",
    "\n",
    "print('\\nadding values in last key :-')\n",
    "d['third'].append('abc')\n",
    "print(d['third'])\n",
    "\n",
    "print('\\nthe key and value :-')\n",
    "for i, j in d.items():\n",
    "    print( i,': ',j)\n"
   ]
  },
  {
   "cell_type": "markdown",
   "id": "fc189919-9dc4-4cbb-8ffb-71c868b8a13c",
   "metadata": {},
   "source": [
    "____________________________________________________________________________________________________________________________"
   ]
  },
  {
   "cell_type": "code",
   "execution_count": 1,
   "id": "fc72c70f-95b3-4fab-8dd9-07ec3555df92",
   "metadata": {},
   "outputs": [
    {
     "name": "stdout",
     "output_type": "stream",
     "text": [
      "List of Students:\n",
      "Name:  ram Rank:  1\n",
      "Name:  laksh Rank:  2\n",
      "Name:  siya Rank:  3\n",
      "\n",
      "Adding a new student to the list\n",
      "('Pawan', 4)\n",
      "\n",
      " new Rank_Holder students data :\n",
      "Name:  ram Rank:  1\n",
      "Name:  laksh Rank:  2\n",
      "Name:  siya Rank:  3\n",
      "Name:  Pawan Rank:  4\n"
     ]
    }
   ],
   "source": [
    "students = [(\"ram\", 1),(\"laksh\", 2),(\"siya\", 3)]\n",
    "\n",
    "print(\"List of Students:\")\n",
    "for student in students:\n",
    "    name,rank = student\n",
    "    print(\"Name: \",name, \"Rank: \",rank)\n",
    "\n",
    "print(\"\\nAdding a new student to the list\")\n",
    "new = (\"Pawan\", 4)\n",
    "students.append(new)\n",
    "print(new)\n",
    "\n",
    "print(\"\\n new Rank_Holder students data :\")\n",
    "for student in students:\n",
    "    name, rank = student\n",
    "    print(\"Name: \",name,\"Rank: \",rank)\n"
   ]
  },
  {
   "cell_type": "markdown",
   "id": "af2da445-48ec-4494-accc-35b0532d173a",
   "metadata": {},
   "source": [
    "_____________________________________________________________________________________________________________________________"
   ]
  },
  {
   "cell_type": "code",
   "execution_count": 107,
   "id": "68516a36-407c-4119-82ec-c31b45efaf16",
   "metadata": {},
   "outputs": [
    {
     "name": "stdout",
     "output_type": "stream",
     "text": [
      "Course highest_grades Details:\n",
      "\n",
      "name of courses : \n",
      " dict_keys(['Hindi', 'English', 'Maths'])\n",
      "\n",
      "Stundents and their enrollment_ID :\n",
      "('amit', 'A1')\n",
      "('ajay', 'A2')\n",
      "('nitin', 'A3')\n",
      "('vishal', 'A4')\n",
      "('rohit', 'A5')\n",
      "\n",
      "Adding the students name & id ,who scored highest grades in the subject:  \n",
      "Hindi\n",
      "Name : amit ( A1  ) Grade :  90\n",
      "Name : nitin ( A3  ) Grade :  85\n",
      "Name : ajay ( A2  ) Grade :  80\n",
      "\n",
      "Adding the students name & id ,who scored highest grades in the subject:  \n",
      "English\n",
      "Name : amit ( A1  ) Grade :  85\n",
      "Name : ajay ( A2  ) Grade :  75\n",
      "\n",
      "Adding the students name & id ,who scored highest grades in the subject:  \n",
      "Maths\n",
      "Name : vishal ( A4  ) Grade :  88\n",
      "Name : rohit ( A5  ) Grade :  92\n"
     ]
    }
   ],
   "source": [
    "\n",
    "print(\"Course highest_grades Details:\\n\")\n",
    "\n",
    "course = {\"Hindi\": [],\"English\": [],\"Maths\": []}\n",
    "print('name of courses : \\n',course.keys())\n",
    "\n",
    "students = [(\"amit\",\"A1\"),(\"ajay\",\"A2\"),(\"nitin\", \"A3\"),(\"vishal\",\"A4\"),(\"rohit\",\"A5\")]\n",
    "print('\\nStundents and their enrollment_ID :')\n",
    "for i in students :\n",
    "    print(i)\n",
    "\n",
    "\n",
    "course[\"English\"].append((\"amit\", \"A1\", 85))\n",
    "course[\"English\"].append((\"ajay\", \"A2\", 75))\n",
    "course[\"Hindi\"].append((\"amit\", \"A1\", 90))\n",
    "course[\"Hindi\"].append((\"nitin\", \"A3\", 85))\n",
    "course[\"Hindi\"].append((\"ajay\", \"A2\", 80))\n",
    "course[\"Maths\"].append((\"vishal\", \"A4\", 88))\n",
    "course[\"Maths\"].append((\"rohit\", \"A5\", 92))\n",
    "\n",
    "\n",
    "\n",
    "for course, grades in course.items():\n",
    "    print('\\nAdding the students name & id ,who scored highest grades in the subject:  ')\n",
    "    print(course )\n",
    "    for student in grades:\n",
    "        student_name, student_id, grade = student\n",
    "        print('Name :',student_name ,'(',student_id,' ) Grade : ',grade)\n",
    "\n"
   ]
  },
  {
   "cell_type": "code",
   "execution_count": null,
   "id": "fa61bab8-58ce-4144-b3e8-673039c58edf",
   "metadata": {},
   "outputs": [],
   "source": []
  }
 ],
 "metadata": {
  "kernelspec": {
   "display_name": "Python 3 (ipykernel)",
   "language": "python",
   "name": "python3"
  },
  "language_info": {
   "codemirror_mode": {
    "name": "ipython",
    "version": 3
   },
   "file_extension": ".py",
   "mimetype": "text/x-python",
   "name": "python",
   "nbconvert_exporter": "python",
   "pygments_lexer": "ipython3",
   "version": "3.12.3"
  }
 },
 "nbformat": 4,
 "nbformat_minor": 5
}
