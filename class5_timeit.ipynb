{
 "cells": [
  {
   "cell_type": "code",
   "execution_count": 8,
   "id": "e927bdca-ca72-43b6-b898-843ef7ed8379",
   "metadata": {},
   "outputs": [
    {
     "name": "stdout",
     "output_type": "stream",
     "text": [
      "1 2 3 4 5 6 7 8 9 10 "
     ]
    }
   ],
   "source": [
    "n=10\n",
    "i=1\n",
    "while(i<=n):\n",
    "    print(i,end=' ')\n",
    "    i+=1"
   ]
  },
  {
   "cell_type": "code",
   "execution_count": 20,
   "id": "f74bf0bf-8944-44a8-bda3-bb31436cd221",
   "metadata": {},
   "outputs": [
    {
     "name": "stdout",
     "output_type": "stream",
     "text": [
      "10 10 10 10 10 10 10 10 10 10 "
     ]
    }
   ],
   "source": [
    "n=10\n",
    "i=1\n",
    "while(i<=n):\n",
    "    print(n,end=' ')\n",
    "    i+=1"
   ]
  },
  {
   "cell_type": "code",
   "execution_count": 35,
   "id": "bacbc406-42d7-43a9-ad41-0ddfbafefb9a",
   "metadata": {},
   "outputs": [
    {
     "name": "stdin",
     "output_type": "stream",
     "text": [
      "n :  4\n"
     ]
    },
    {
     "name": "stdout",
     "output_type": "stream",
     "text": [
      "0 1 2 3 \n",
      "0 1 2 3 \n",
      "0 1 2 3 \n",
      "0 1 2 3 \n"
     ]
    }
   ],
   "source": [
    "n=int(input('n : '))\n",
    "i=1\n",
    "for i in range(n) :\n",
    "    j=1\n",
    "    for j in range (n) :\n",
    "        print(j,end=' ')\n",
    "    print()"
   ]
  },
  {
   "cell_type": "code",
   "execution_count": 36,
   "id": "a84bd915-aae3-4c58-a0b4-4a728fc9a741",
   "metadata": {},
   "outputs": [
    {
     "name": "stdin",
     "output_type": "stream",
     "text": [
      "n :  5\n"
     ]
    },
    {
     "name": "stdout",
     "output_type": "stream",
     "text": [
      "0 1 2 3 4 \n",
      "0 1 2 3 4 \n",
      "0 1 2 3 4 \n",
      "0 1 2 3 4 \n",
      "0 1 2 3 4 \n"
     ]
    }
   ],
   "source": [
    "n=int(input('n : '))\n",
    "\n",
    "for i in range(n) :\n",
    "\n",
    "    for j in range (n) :\n",
    "        print(j,end=' ')\n",
    "    print()"
   ]
  },
  {
   "cell_type": "code",
   "execution_count": null,
   "id": "0a24d5cc-4de6-4e96-9167-6a650c69860a",
   "metadata": {},
   "outputs": [],
   "source": [
    "###implementation of python constract using  loop -------------------"
   ]
  },
  {
   "cell_type": "code",
   "execution_count": 3,
   "id": "83e45985-b915-4b39-8612-a9a69b02623d",
   "metadata": {},
   "outputs": [
    {
     "name": "stdout",
     "output_type": "stream",
     "text": [
      "while loop :  8.69354999999996\n"
     ]
    }
   ],
   "source": [
    "from timeit import timeit\n",
    "n=100\n",
    "def while_fun():\n",
    "    i=0\n",
    "    while(i<=n):\n",
    "        i+=1\n",
    "    return\n",
    "print('while loop : ',timeit(while_fun))"
   ]
  },
  {
   "cell_type": "code",
   "execution_count": 4,
   "id": "7f07af62-037c-46b1-b198-8fc591293fce",
   "metadata": {},
   "outputs": [
    {
     "name": "stdout",
     "output_type": "stream",
     "text": [
      "while loop :  2.6900000193563756e-05\n"
     ]
    }
   ],
   "source": [
    "from timeit import timeit\n",
    "n=100\n",
    "def while_fun():\n",
    "    i=0\n",
    "    while(i<=n):\n",
    "        i+=1\n",
    "    return\n",
    "print('while loop : ',timeit(while_fun,number=1))"
   ]
  },
  {
   "cell_type": "code",
   "execution_count": 5,
   "id": "0b9525b1-817e-4674-ac6b-1ba4f6e6afb1",
   "metadata": {},
   "outputs": [
    {
     "name": "stdout",
     "output_type": "stream",
     "text": [
      "For loop :  0.4147170000001097\n"
     ]
    }
   ],
   "source": [
    "from timeit import timeit\n",
    "n=100\n",
    "def for_fun():\n",
    "    i=0\n",
    "    for i in range(n):\n",
    "        return\n",
    "print('For loop : ',timeit(for_fun))"
   ]
  },
  {
   "cell_type": "code",
   "execution_count": 13,
   "id": "cf2c846f-83f6-48bd-becf-36f0dd12d9bb",
   "metadata": {},
   "outputs": [
    {
     "name": "stdout",
     "output_type": "stream",
     "text": [
      "For loop :  5.599999894911889e-06\n"
     ]
    }
   ],
   "source": [
    "from timeit import timeit\n",
    "n=100\n",
    "def for_fun():\n",
    "    i=0\n",
    "    for i in range(n):\n",
    "        return\n",
    "print('For loop : ',timeit(for_fun,number=1))"
   ]
  },
  {
   "cell_type": "code",
   "execution_count": 23,
   "id": "6240eab9-af35-41fb-a85a-3fbdc86da324",
   "metadata": {},
   "outputs": [
    {
     "name": "stdout",
     "output_type": "stream",
     "text": [
      "For loop :  2.399999630142702e-06\n"
     ]
    }
   ],
   "source": [
    "from timeit import timeit\n",
    "n=100\n",
    "def for_fun():\n",
    "    for i in range(n):\n",
    "        return\n",
    "print('For loop : ',timeit(for_fun,number=1))"
   ]
  },
  {
   "cell_type": "code",
   "execution_count": 24,
   "id": "b6c23b57-d33b-46c7-af2f-f254fb31e484",
   "metadata": {},
   "outputs": [
    {
     "name": "stdout",
     "output_type": "stream",
     "text": [
      "For loop :  8.100000286503928e-06\n"
     ]
    }
   ],
   "source": [
    "from timeit import timeit\n",
    "n=100\n",
    "def for_fun():\n",
    "    i=0\n",
    "    for i in range(n):\n",
    "        pass\n",
    "print('For loop : ',timeit(for_fun,number=1))"
   ]
  },
  {
   "cell_type": "code",
   "execution_count": 25,
   "id": "8e6657dd-eeeb-445c-a162-d2b86be8b498",
   "metadata": {},
   "outputs": [
    {
     "name": "stdout",
     "output_type": "stream",
     "text": [
      "For loop :  3.290581799999927\n"
     ]
    }
   ],
   "source": [
    "from timeit import timeit\n",
    "n=100\n",
    "def for_fun():\n",
    "    i=0\n",
    "    for i in range(n):\n",
    "        pass\n",
    "print('For loop : ',timeit(for_fun))"
   ]
  },
  {
   "cell_type": "code",
   "execution_count": 33,
   "id": "850186db-b523-4e2d-aed1-83aa0d5b5ee4",
   "metadata": {},
   "outputs": [
    {
     "name": "stdout",
     "output_type": "stream",
     "text": [
      "For loop :  6.735031600000184\n"
     ]
    }
   ],
   "source": [
    "from timeit import timeit\n",
    "n=100\n",
    "def for_fun():\n",
    "    j=0\n",
    "    for j in range(n):\n",
    "        j+=1\n",
    "        pass\n",
    "    return\n",
    "print('For loop : ',timeit(for_fun))"
   ]
  },
  {
   "cell_type": "code",
   "execution_count": 34,
   "id": "e49b3d28-f36c-47c4-b9ef-799066892e43",
   "metadata": {},
   "outputs": [
    {
     "name": "stdout",
     "output_type": "stream",
     "text": [
      "while loop :  2.2199999875738285e-05\n",
      "For loop :  6.768135299999813\n"
     ]
    }
   ],
   "source": [
    "from timeit import timeit\n",
    "n=100\n",
    "def while_fun():\n",
    "    i=0\n",
    "    while(i<=n):\n",
    "        i+=1\n",
    "    return\n",
    "print('while loop : ',timeit(while_fun))\n",
    "\n",
    "def for_fun():\n",
    "    j=0\n",
    "    for j in range(n):\n",
    "        j+=1\n",
    "        pass\n",
    "    return\n",
    "print('For loop : ',timeit(for_fun))"
   ]
  },
  {
   "cell_type": "code",
   "execution_count": 44,
   "id": "314f568e-8da9-419d-ae5d-a0edb7c7c302",
   "metadata": {},
   "outputs": [
    {
     "name": "stdout",
     "output_type": "stream",
     "text": [
      "while loop :  2.479999966453761e-05\n",
      "For loop :  1.9600000086938962e-05\n"
     ]
    }
   ],
   "source": [
    "from timeit import timeit\n",
    "n=100\n",
    "def while_fun():\n",
    "    i=0\n",
    "    while(i<=n):\n",
    "        i+=1\n",
    "    return\n",
    "print('while loop : ',timeit(while_fun,number=1))\n",
    "\n",
    "def for_fun():\n",
    "    j=0\n",
    "    for j in range(n):\n",
    "        j+=1\n",
    "        pass\n",
    "    return\n",
    "print('For loop : ',timeit(for_fun,number=1))"
   ]
  },
  {
   "cell_type": "code",
   "execution_count": 35,
   "id": "efdd5770-b0ee-47c4-91d5-ddfe2c1a74f9",
   "metadata": {},
   "outputs": [
    {
     "name": "stdout",
     "output_type": "stream",
     "text": [
      "sum_n  0.3109751000001779\n"
     ]
    }
   ],
   "source": [
    "from timeit import timeit\n",
    "def sum_n():\n",
    "    return(n*(n+1))//2\n",
    "print('sum_n ',timeit(sum_n))"
   ]
  },
  {
   "cell_type": "code",
   "execution_count": 43,
   "id": "ab8d7d11-010f-47dc-b39d-5ac4751f1d9d",
   "metadata": {},
   "outputs": [
    {
     "name": "stdout",
     "output_type": "stream",
     "text": [
      "sum_n  4.399999852466863e-06\n"
     ]
    }
   ],
   "source": [
    "from timeit import timeit\n",
    "def sum_n():\n",
    "    return(n*(n+1))//2\n",
    "print('sum_n ',timeit(sum_n,number=1))"
   ]
  },
  {
   "cell_type": "code",
   "execution_count": 37,
   "id": "b8c10289-f4df-4275-b715-eb84eb30b52e",
   "metadata": {},
   "outputs": [
    {
     "name": "stdout",
     "output_type": "stream",
     "text": [
      "while loop :  8.77017640000031\n",
      "For loop :  6.792119300000195\n",
      "sum_n  0.3064313000004404\n"
     ]
    }
   ],
   "source": [
    "from timeit import timeit\n",
    "n=100\n",
    "def while_fun():\n",
    "    i=0\n",
    "    while(i<=n):\n",
    "        i+=1\n",
    "    return\n",
    "print('while loop : ',timeit(while_fun))\n",
    "\n",
    "def for_fun():\n",
    "    j=0\n",
    "    for j in range(n):\n",
    "        j+=1\n",
    "        pass\n",
    "    return\n",
    "print('For loop : ',timeit(for_fun))\n",
    "\n",
    "from timeit import timeit\n",
    "def sum_n():\n",
    "    return(n*(n+1))//2\n",
    "print('sum_n ',timeit(sum_n))"
   ]
  },
  {
   "cell_type": "code",
   "execution_count": 42,
   "id": "23983f67-3eb0-4b7e-ae9a-28d572c0c744",
   "metadata": {},
   "outputs": [
    {
     "name": "stdout",
     "output_type": "stream",
     "text": [
      "while loop :  1.3900000340072438e-05\n",
      "For loop :  1.8199999431089964e-05\n",
      "sum_n  3.899999683198985e-06\n"
     ]
    }
   ],
   "source": [
    "from timeit import timeit\n",
    "n=100\n",
    "def while_fun():\n",
    "    i=0\n",
    "    while(i<=n):\n",
    "        i+=1\n",
    "    return\n",
    "print('while loop : ',timeit(while_fun,number=1))\n",
    "\n",
    "def for_fun():\n",
    "    j=0\n",
    "    for j in range(n):\n",
    "        j+=1\n",
    "        pass\n",
    "    return\n",
    "print('For loop : ',timeit(for_fun,number=1))\n",
    "\n",
    "from timeit import timeit\n",
    "def sum_n():\n",
    "    return(n*(n+1))//2\n",
    "print('sum_n ',timeit(sum_n,number=1))"
   ]
  }
 ],
 "metadata": {
  "kernelspec": {
   "display_name": "Python 3 (ipykernel)",
   "language": "python",
   "name": "python3"
  },
  "language_info": {
   "codemirror_mode": {
    "name": "ipython",
    "version": 3
   },
   "file_extension": ".py",
   "mimetype": "text/x-python",
   "name": "python",
   "nbconvert_exporter": "python",
   "pygments_lexer": "ipython3",
   "version": "3.12.2"
  }
 },
 "nbformat": 4,
 "nbformat_minor": 5
}
