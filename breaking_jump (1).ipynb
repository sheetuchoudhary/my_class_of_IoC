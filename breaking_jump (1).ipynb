{
 "cells": [
  {
   "cell_type": "code",
   "execution_count": null,
   "id": "a040ac38-3af0-41eb-99fd-77e6f89a5ee2",
   "metadata": {},
   "outputs": [],
   "source": [
    "# Breaking and joining numbers \n",
    "num1 = 430\n",
    "count_e = 0\n",
    "count_o = 0\n",
    "while (num1 >0):\n",
    "    single_d = 430 % 10 \n",
    "    if single_d % 2 == 0:\n",
    "        count_e += single_d\n",
    "        print(count_e)\n",
    "    else :\n",
    "        count_o += single_d\n",
    "        print(count_o)\n",
    "\n",
    "        num1 = num1/10\n",
    "    sum_OE = count_e + count_o\n",
    "    print(count_o,count_e,sum_OE)"
   ]
  },
  {
   "cell_type": "code",
   "execution_count": 4,
   "id": "7838e2aa-5cd3-42ce-9644-cd2cfd5be81b",
   "metadata": {},
   "outputs": [
    {
     "name": "stdout",
     "output_type": "stream",
     "text": [
      "0\n",
      "0 0 0\n",
      "0\n",
      "0 0 0\n",
      "0\n",
      "0 0 0\n"
     ]
    }
   ],
   "source": [
    "# Breaking and joining numbers \n",
    "num1 = 430\n",
    "count_e = 0\n",
    "count_o = 0\n",
    "while (num1 >0):\n",
    "    single_d = 430 % 10 \n",
    "    if single_d % 2 == 0:\n",
    "        count_e += single_d\n",
    "        print(count_e)\n",
    "    else :\n",
    "        count_o += single_d\n",
    "        print(count_o)\n",
    "\n",
    "    num1 = num1/10\n",
    "    sum_OE = count_e + count_o\n",
    "    print(count_o,count_e,sum_OE)"
   ]
  },
  {
   "cell_type": "code",
   "execution_count": 5,
   "id": "91f9f250-1b38-4ba4-b60a-10dbb7eb2119",
   "metadata": {},
   "outputs": [
    {
     "name": "stdout",
     "output_type": "stream",
     "text": [
      "0\n",
      "0 0 0\n",
      "0\n",
      "0 0 0\n",
      "0\n",
      "0 0 0\n"
     ]
    }
   ],
   "source": [
    "# Breaking and joining numbers \n",
    "num1 = 430\n",
    "count_e = 0\n",
    "count_o = 0\n",
    "while (num1 >0):\n",
    "    single_d = 430 % 10 \n",
    "    if single_d % 2 == 0:\n",
    "        count_e += single_d\n",
    "        print(count_e)\n",
    "    else :\n",
    "        count_o += single_d\n",
    "        print(count_o)\n",
    "\n",
    "    num1 = num1/10\n",
    "    sum_OE = count_e + count_o\n",
    "    print(count_o,count_e,sum_OE)"
   ]
  },
  {
   "cell_type": "code",
   "execution_count": 7,
   "id": "ff622269-7d4d-4530-bac5-c0f2df99ab41",
   "metadata": {},
   "outputs": [
    {
     "name": "stdout",
     "output_type": "stream",
     "text": [
      "0\n",
      "0\n",
      "0 0 0\n",
      "0\n",
      "0\n",
      "0 0 0\n",
      "0\n",
      "0\n",
      "0 0 0\n"
     ]
    }
   ],
   "source": [
    "# Breaking and joining numbers \n",
    "num1 = 430\n",
    "count_e = 0\n",
    "count_o = 0\n",
    "while (num1 >0):\n",
    "    single_d = 430 % 10 \n",
    "    if single_d % 2 == 0:\n",
    "        count_e += single_d\n",
    "        \n",
    "    else :\n",
    "        count_o += single_d\n",
    "\n",
    "    num1 = num1/10\n",
    "    print(count_e)\n",
    "    print(count_o)\n",
    "    sum_OE = count_e + count_o\n",
    "    print(count_o,count_e,sum_OE)"
   ]
  },
  {
   "cell_type": "code",
   "execution_count": 9,
   "id": "eacb1f93-0f59-47ae-9858-3898ce58d007",
   "metadata": {},
   "outputs": [
    {
     "name": "stdout",
     "output_type": "stream",
     "text": [
      "0 0 0\n",
      "3 0 3\n",
      "3 4 7\n"
     ]
    }
   ],
   "source": [
    "num1 = 430\n",
    "count_e = 0\n",
    "count_o = 0\n",
    "while num1 >0:\n",
    "    single_d = num1 % 10 \n",
    "    if single_d % 2 == 0:\n",
    "        count_e += single_d\n",
    "    else :\n",
    "        count_o += single_d\n",
    "    num1 = num1/10\n",
    "    sum_OE = count_e + count_o\n",
    "    print(count_o,count_e,sum_OE)"
   ]
  },
  {
   "cell_type": "code",
   "execution_count": 12,
   "id": "a8eca9f8-805f-49e9-81d3-63c7015a8802",
   "metadata": {},
   "outputs": [
    {
     "ename": "KeyboardInterrupt",
     "evalue": "",
     "output_type": "error",
     "traceback": [
      "\u001b[1;31m---------------------------------------------------------------------------\u001b[0m",
      "\u001b[1;31mKeyboardInterrupt\u001b[0m                         Traceback (most recent call last)",
      "Cell \u001b[1;32mIn[12], line 4\u001b[0m\n\u001b[0;32m      2\u001b[0m count_e \u001b[38;5;241m=\u001b[39m \u001b[38;5;241m0\u001b[39m\n\u001b[0;32m      3\u001b[0m count_o \u001b[38;5;241m=\u001b[39m \u001b[38;5;241m0\u001b[39m\n\u001b[1;32m----> 4\u001b[0m \u001b[38;5;28;01mwhile\u001b[39;00m num1 \u001b[38;5;241m>\u001b[39m\u001b[38;5;241m0\u001b[39m:\n\u001b[0;32m      5\u001b[0m     single_d \u001b[38;5;241m=\u001b[39m num1 \u001b[38;5;241m%\u001b[39m \u001b[38;5;241m10\u001b[39m \n\u001b[0;32m      6\u001b[0m     \u001b[38;5;28;01mif\u001b[39;00m single_d \u001b[38;5;241m%\u001b[39m \u001b[38;5;241m2\u001b[39m \u001b[38;5;241m==\u001b[39m \u001b[38;5;241m0\u001b[39m:\n",
      "\u001b[1;31mKeyboardInterrupt\u001b[0m: "
     ]
    }
   ],
   "source": [
    "num1 = 430\n",
    "count_e = 0\n",
    "count_o = 0\n",
    "while num1 >0:\n",
    "    single_d = num1 % 10 \n",
    "    if single_d % 2 == 0:\n",
    "        count_e += single_d\n",
    "    else :\n",
    "        count_o += single_d\n",
    "num1 = num1/10\n",
    "sum_OE = count_e + count_o\n",
    "print(count_o,count_e,sum_OE)"
   ]
  },
  {
   "cell_type": "code",
   "execution_count": 15,
   "id": "0169032b-8dfc-46e7-9874-5624ac9abf7d",
   "metadata": {},
   "outputs": [
    {
     "ename": "KeyboardInterrupt",
     "evalue": "",
     "output_type": "error",
     "traceback": [
      "\u001b[1;31m---------------------------------------------------------------------------\u001b[0m",
      "\u001b[1;31mKeyboardInterrupt\u001b[0m                         Traceback (most recent call last)",
      "Cell \u001b[1;32mIn[15], line 4\u001b[0m\n\u001b[0;32m      2\u001b[0m count_e \u001b[38;5;241m=\u001b[39m \u001b[38;5;241m0\u001b[39m\n\u001b[0;32m      3\u001b[0m count_o \u001b[38;5;241m=\u001b[39m \u001b[38;5;241m0\u001b[39m\n\u001b[1;32m----> 4\u001b[0m \u001b[38;5;28;01mwhile\u001b[39;00m num1 \u001b[38;5;241m>\u001b[39m\u001b[38;5;241m0\u001b[39m:\n\u001b[0;32m      5\u001b[0m     single_d \u001b[38;5;241m=\u001b[39m num1 \u001b[38;5;241m%\u001b[39m \u001b[38;5;241m10\u001b[39m \n\u001b[0;32m      6\u001b[0m     \u001b[38;5;28;01mif\u001b[39;00m single_d \u001b[38;5;241m%\u001b[39m \u001b[38;5;241m2\u001b[39m \u001b[38;5;241m==\u001b[39m \u001b[38;5;241m0\u001b[39m:\n",
      "\u001b[1;31mKeyboardInterrupt\u001b[0m: "
     ]
    }
   ],
   "source": [
    "num1 = 430\n",
    "count_e = 0\n",
    "count_o = 0\n",
    "while num1 >0:\n",
    "    single_d = num1 % 10 \n",
    "    if single_d % 2 == 0:\n",
    "        count_e += single_d\n",
    "    else :\n",
    "        count_o += single_d\n",
    "num1 = num1/10\n",
    "sum_OE = count_e + count_o\n",
    "print(count_o,count_e,sum_OE)"
   ]
  },
  {
   "cell_type": "code",
   "execution_count": 18,
   "id": "188178b5-b3fb-4012-adb9-7d8b663c35fb",
   "metadata": {},
   "outputs": [
    {
     "name": "stdout",
     "output_type": "stream",
     "text": [
      "7.777777777777776 0 7.777777777777776\n"
     ]
    }
   ],
   "source": [
    "num1 = 430\n",
    "count_e = 0\n",
    "count_o = 0\n",
    "while num1 >0:\n",
    "    single_d = num1 % 10 \n",
    "    if single_d % 2 == 0:\n",
    "        count_e += single_d\n",
    "    else :\n",
    "        count_o += single_d\n",
    "    num1 = num1/10\n",
    "sum_OE = count_e + count_o\n",
    "print(count_o,count_e,sum_OE)"
   ]
  },
  {
   "cell_type": "code",
   "execution_count": 19,
   "id": "ad85ab09-91de-45a8-bdc8-11e988f44312",
   "metadata": {},
   "outputs": [
    {
     "name": "stdout",
     "output_type": "stream",
     "text": [
      "3 4 7\n"
     ]
    }
   ],
   "source": [
    "num1 = 430\n",
    "count_e = 0\n",
    "count_o = 0\n",
    "while num1 >0:\n",
    "    single_d = num1 % 10 \n",
    "    if single_d % 2 == 0:\n",
    "        count_e += single_d\n",
    "    else :\n",
    "        count_o += single_d\n",
    "    num1 = int(num1/10)\n",
    "sum_OE = count_e + count_o\n",
    "print(count_o,count_e,sum_OE)"
   ]
  },
  {
   "cell_type": "code",
   "execution_count": 1,
   "id": "764eacbb-4a67-44c1-9a29-6415e94c3e0c",
   "metadata": {},
   "outputs": [
    {
     "name": "stdout",
     "output_type": "stream",
     "text": [
      "9 12 21\n"
     ]
    }
   ],
   "source": [
    "num1 = 228900\n",
    "count_e = 0\n",
    "count_o = 0\n",
    "while num1 >0:\n",
    "    single_d = num1 % 10 \n",
    "    if single_d % 2 == 0:\n",
    "        count_e += single_d\n",
    "    else :\n",
    "        count_o += single_d\n",
    "    num1 = int(num1/10)\n",
    "sum_OE = count_e + count_o\n",
    "print(count_o,count_e,sum_OE)"
   ]
  },
  {
   "cell_type": "code",
   "execution_count": 2,
   "id": "184469e1-8f50-4d07-a736-cbabe20085f0",
   "metadata": {},
   "outputs": [
    {
     "name": "stdout",
     "output_type": "stream",
     "text": [
      "46 4 50\n"
     ]
    }
   ],
   "source": [
    "num1 = 49901999\n",
    "count_e = 0\n",
    "count_o = 0\n",
    "while num1 >0:\n",
    "    single_d = num1 % 10 \n",
    "    if single_d % 2 == 0:\n",
    "        count_e += single_d\n",
    "    else :\n",
    "        count_o += single_d\n",
    "    num1 = int(num1/10)\n",
    "sum_OE = count_e + count_o\n",
    "print(count_o,count_e,sum_OE)"
   ]
  },
  {
   "cell_type": "code",
   "execution_count": null,
   "id": "85bd7562-b632-4089-970a-fa0f266c2e6a",
   "metadata": {},
   "outputs": [],
   "source": []
  }
 ],
 "metadata": {
  "kernelspec": {
   "display_name": "Python 3 (ipykernel)",
   "language": "python",
   "name": "python3"
  },
  "language_info": {
   "codemirror_mode": {
    "name": "ipython",
    "version": 3
   },
   "file_extension": ".py",
   "mimetype": "text/x-python",
   "name": "python",
   "nbconvert_exporter": "python",
   "pygments_lexer": "ipython3",
   "version": "3.12.2"
  }
 },
 "nbformat": 4,
 "nbformat_minor": 5
}
