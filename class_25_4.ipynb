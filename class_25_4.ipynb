{
 "cells": [
  {
   "cell_type": "code",
   "execution_count": 5,
   "id": "e2769caf-ddaa-4a9d-85f7-ef938b842465",
   "metadata": {},
   "outputs": [
    {
     "ename": "AttributeError",
     "evalue": "'copy' object has no attribute 'copy'",
     "output_type": "error",
     "traceback": [
      "\u001b[1;31m---------------------------------------------------------------------------\u001b[0m",
      "\u001b[1;31mAttributeError\u001b[0m                            Traceback (most recent call last)",
      "Cell \u001b[1;32mIn[5], line 10\u001b[0m\n\u001b[0;32m      7\u001b[0m         \u001b[38;5;28;01mreturn\u001b[39;00m \u001b[38;5;28mself\u001b[39m\u001b[38;5;241m.\u001b[39m_List\n\u001b[0;32m      9\u001b[0m L \u001b[38;5;241m=\u001b[39m copy()\n\u001b[1;32m---> 10\u001b[0m \u001b[43mL\u001b[49m\u001b[38;5;241;43m.\u001b[39;49m\u001b[43mcopy\u001b[49m\u001b[38;5;241m.\u001b[39mlist([\u001b[38;5;241m1\u001b[39m,\u001b[38;5;241m2\u001b[39m,\u001b[38;5;241m3\u001b[39m,\u001b[38;5;241m4\u001b[39m])\n\u001b[0;32m     11\u001b[0m \u001b[38;5;28mtype\u001b[39m(L)\n",
      "\u001b[1;31mAttributeError\u001b[0m: 'copy' object has no attribute 'copy'"
     ]
    }
   ],
   "source": [
    "class copy:\n",
    "    def __init__(self):\n",
    "        self.List=[]\n",
    "        \n",
    "    def copy_List(self,_other):\n",
    "        self._List = self._List + _other\n",
    "        return self._List\n",
    "\n",
    "L = copy()\n",
    "L.copy.list([1,2,3,4])\n",
    "type(L)\n",
    "len(L._List)"
   ]
  },
  {
   "cell_type": "code",
   "execution_count": 20,
   "id": "4db23d57-72d3-4a92-a187-def530a38892",
   "metadata": {},
   "outputs": [
    {
     "name": "stdout",
     "output_type": "stream",
     "text": [
      "<class '__main__.Copy'>\n",
      "[1, 2, 3, 4]\n",
      "4\n"
     ]
    }
   ],
   "source": [
    "class Copy:\n",
    "    def __init__(self):\n",
    "        self._List=[]\n",
    "        \n",
    "    def Copy_List(self,_other):\n",
    "        self._List = self._List + _other\n",
    "        return self._List\n",
    "    def __len__(self):\n",
    "        return len(self._List)\n",
    "\n",
    "\n",
    "L = Copy()\n",
    "A = L.Copy_List([1,2,3,4])\n",
    "print(type(L))\n",
    "print(A)\n",
    "#print(len(len(L._List)))\n",
    "print(len(L))\n"
   ]
  },
  {
   "cell_type": "code",
   "execution_count": 60,
   "id": "a85f4d6a-f126-413e-bb7b-38b4477d9f3f",
   "metadata": {},
   "outputs": [
    {
     "name": "stdin",
     "output_type": "stream",
     "text": [
      "a :  10\n",
      "b :  10\n"
     ]
    },
    {
     "name": "stdout",
     "output_type": "stream",
     "text": [
      "20\n"
     ]
    }
   ],
   "source": [
    "class SymbolAdd():\n",
    "    def __init__(self,_a):\n",
    "        self._add1= _a\n",
    "    def SymbolAdd_add1(self,_b):\n",
    "        self._add2 = self._add1 + _b\n",
    "        return self._add2\n",
    "\n",
    "_a = int(input('a : '))\n",
    "_b = int(input('b : '))\n",
    "S = SymbolAdd(_a)\n",
    "result = S.SymbolAdd_add1(_a)\n",
    "print(result)\n",
    "\n"
   ]
  },
  {
   "cell_type": "code",
   "execution_count": 30,
   "id": "076376b6-0d01-40c5-bebd-e5bfe89551f3",
   "metadata": {},
   "outputs": [
    {
     "name": "stdout",
     "output_type": "stream",
     "text": [
      "<__main__.SymbolAdd object at 0x000001F5EE1ABB30>\n"
     ]
    }
   ],
   "source": [
    "class SymbolAdd():\n",
    "    def __init__(self,a):\n",
    "        self.a = a\n",
    "    def copy_func(self):\n",
    "        b = SymbolAdd()\n",
    "        b.a = self.a\n",
    "        return b.a\n",
    "    \n",
    "print(SymbolAdd(4))"
   ]
  },
  {
   "cell_type": "code",
   "execution_count": 35,
   "id": "a96507cb-af39-44d0-a5c9-fe26d5fbf9dd",
   "metadata": {},
   "outputs": [
    {
     "name": "stdin",
     "output_type": "stream",
     "text": [
      "a:  5\n"
     ]
    },
    {
     "name": "stdout",
     "output_type": "stream",
     "text": [
      "<__main__.SymbolAdd object at 0x000001F5EF40A780>\n",
      "5\n"
     ]
    }
   ],
   "source": [
    "class SymbolAdd():\n",
    "    def __init__(self,a):\n",
    "        self.a = a\n",
    "    def copy_func(self):\n",
    "        b = SymbolAdd(a)\n",
    "        b.a = self.a\n",
    "        return b.a\n",
    "a = int(input('a: '))\n",
    "A = SymbolAdd(a)\n",
    "print(A)\n",
    "print(A.copy_func())"
   ]
  },
  {
   "cell_type": "code",
   "execution_count": 65,
   "id": "05a82f7d-9417-484e-a597-14b09cc77322",
   "metadata": {},
   "outputs": [
    {
     "name": "stdin",
     "output_type": "stream",
     "text": [
      "a:  4\n"
     ]
    },
    {
     "name": "stdout",
     "output_type": "stream",
     "text": [
      "<__main__.SymbolAdd object at 0x000001F5EEA5EFF0>\n",
      "4\n"
     ]
    },
    {
     "ename": "AttributeError",
     "evalue": "'SymbolAdd' object has no attribute 'add'",
     "output_type": "error",
     "traceback": [
      "\u001b[1;31m---------------------------------------------------------------------------\u001b[0m",
      "\u001b[1;31mAttributeError\u001b[0m                            Traceback (most recent call last)",
      "Cell \u001b[1;32mIn[65], line 17\u001b[0m\n\u001b[0;32m     15\u001b[0m \u001b[38;5;28mprint\u001b[39m(A)\n\u001b[0;32m     16\u001b[0m \u001b[38;5;28mprint\u001b[39m(A\u001b[38;5;241m.\u001b[39mcopy_func())\n\u001b[1;32m---> 17\u001b[0m S \u001b[38;5;241m=\u001b[39m \u001b[43mA\u001b[49m\u001b[38;5;241;43m.\u001b[39;49m\u001b[43madd\u001b[49m()\n\u001b[0;32m     18\u001b[0m \u001b[38;5;28mprint\u001b[39m(S)\n",
      "\u001b[1;31mAttributeError\u001b[0m: 'SymbolAdd' object has no attribute 'add'"
     ]
    }
   ],
   "source": [
    "class SymbolAdd():\n",
    "    def __init__(self,a):\n",
    "        self.a = a\n",
    "    def copy_func(self):\n",
    "        b = SymbolAdd(a)\n",
    "        b.a = self.a\n",
    "        return b.a\n",
    "    def SymbolAdd_add():\n",
    "        self.add = self.a + self.b\n",
    "        return self.add\n",
    "        \n",
    "        \n",
    "a = int(input('a: '))\n",
    "A = SymbolAdd(a)\n",
    "print(A)\n",
    "print(A.copy_func())\n",
    "S = SymbolAdd_add()\n",
    "print(S)"
   ]
  },
  {
   "cell_type": "code",
   "execution_count": null,
   "id": "833035f7-70f6-48ac-99f1-b618d5f6fbe3",
   "metadata": {},
   "outputs": [],
   "source": []
  }
 ],
 "metadata": {
  "kernelspec": {
   "display_name": "Python 3 (ipykernel)",
   "language": "python",
   "name": "python3"
  },
  "language_info": {
   "codemirror_mode": {
    "name": "ipython",
    "version": 3
   },
   "file_extension": ".py",
   "mimetype": "text/x-python",
   "name": "python",
   "nbconvert_exporter": "python",
   "pygments_lexer": "ipython3",
   "version": "3.12.3"
  }
 },
 "nbformat": 4,
 "nbformat_minor": 5
}
