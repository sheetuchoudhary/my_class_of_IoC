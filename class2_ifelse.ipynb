{
 "cells": [
  {
   "cell_type": "code",
   "execution_count": 62,
   "id": "32596512-1d19-4075-8fd6-042c76fd66b7",
   "metadata": {},
   "outputs": [
    {
     "ename": "SyntaxError",
     "evalue": "invalid syntax (3686603471.py, line 3)",
     "output_type": "error",
     "traceback": [
      "\u001b[1;36m  Cell \u001b[1;32mIn[62], line 3\u001b[1;36m\u001b[0m\n\u001b[1;33m    global and local\u001b[0m\n\u001b[1;37m           ^\u001b[0m\n\u001b[1;31mSyntaxError\u001b[0m\u001b[1;31m:\u001b[0m invalid syntax\n"
     ]
    }
   ],
   "source": [
    "a= 20\n",
    "# bindings and namespaces \n",
    "#global and local\n",
    "\n",
    "a=10\n",
    "def add[a,b]:\n",
    "    a=12\n",
    "    return (a+b)\n",
    "print(a)\n",
    "print (add(10,10))"
   ]
  },
  {
   "cell_type": "code",
   "execution_count": null,
   "id": "9212e40a-0125-4b48-91fb-107ee75b2ccb",
   "metadata": {},
   "outputs": [],
   "source": [
    "#python auto set tpye of object \n",
    "#by default string is a type for every unknown object"
   ]
  },
  {
   "cell_type": "code",
   "execution_count": 2,
   "id": "d5d5ebf5-38cd-44f8-beaf-9c304ca3017b",
   "metadata": {},
   "outputs": [
    {
     "name": "stdin",
     "output_type": "stream",
     "text": [
      "num1 :  2\n",
      "num2 :  4\n"
     ]
    },
    {
     "name": "stdout",
     "output_type": "stream",
     "text": [
      "<class 'int'>\n",
      "<class 'int'>\n",
      "sum of num1 and num2 :  6\n"
     ]
    }
   ],
   "source": [
    "a= int (input(\"num1 : \"))\n",
    "b= int( input (\"num2 : \"))\n",
    "print (type(a))\n",
    "print (type(b))\n",
    "print (\"sum of num1 and num2 : \",a+b)\n"
   ]
  },
  {
   "cell_type": "code",
   "execution_count": 13,
   "id": "094af086-e52b-4d4f-bf44-336816323140",
   "metadata": {},
   "outputs": [
    {
     "name": "stdout",
     "output_type": "stream",
     "text": [
      "10\n"
     ]
    }
   ],
   "source": [
    "a=10\n",
    "b=5\n",
    "c=2\n",
    "if (a>b):\n",
    "    if (a>c):\n",
    "        print (a)\n",
    "if (b>a):\n",
    "    if (b>c):\n",
    "        print(b)\n",
    "else :\n",
    "    (c)\n",
    "   "
   ]
  },
  {
   "cell_type": "raw",
   "id": "9b6b7218-e8b5-49f1-a2f1-0c1d2b2d5fe3",
   "metadata": {},
   "source": [
    "a =5\n",
    "b=8\n",
    "c=1\n",
    "if (a>b &a>c):\n",
    "    print(a)\n",
    "if(b>a &b>c):\n",
    "    print(b)\n",
    "else :\n",
    "    (c)"
   ]
  },
  {
   "cell_type": "code",
   "execution_count": 4,
   "id": "065757c9-b5eb-4491-97be-61a8f25c35bf",
   "metadata": {},
   "outputs": [
    {
     "name": "stdin",
     "output_type": "stream",
     "text": [
      "enter a number :  4\n"
     ]
    },
    {
     "name": "stdout",
     "output_type": "stream",
     "text": [
      "4 is even \n"
     ]
    }
   ],
   "source": [
    "num = int(input(\"enter a number : \"))\n",
    "if (num%2==0):\n",
    "    print ( num,\"is even \" )\n",
    "else :\n",
    "    print( num,\"is odd \" )\n",
    "                "
   ]
  },
  {
   "cell_type": "code",
   "execution_count": 4,
   "id": "02e316df-440d-42d1-b6e0-504a928ca68c",
   "metadata": {},
   "outputs": [
    {
     "name": "stdin",
     "output_type": "stream",
     "text": [
      "num :  5\n"
     ]
    },
    {
     "ename": "KeyboardInterrupt",
     "evalue": "",
     "output_type": "error",
     "traceback": [
      "\u001b[1;31m---------------------------------------------------------------------------\u001b[0m",
      "\u001b[1;31mKeyboardInterrupt\u001b[0m                         Traceback (most recent call last)",
      "Cell \u001b[1;32mIn[4], line 4\u001b[0m\n\u001b[0;32m      2\u001b[0m div \u001b[38;5;241m=\u001b[39m \u001b[38;5;241m2\u001b[39m\n\u001b[0;32m      3\u001b[0m f_count \u001b[38;5;241m=\u001b[39m \u001b[38;5;241m0\u001b[39m\n\u001b[1;32m----> 4\u001b[0m \u001b[38;5;28;01mwhile\u001b[39;00m div \u001b[38;5;241m<\u001b[39m num :\n\u001b[0;32m      5\u001b[0m     \u001b[38;5;28;01mif\u001b[39;00m num \u001b[38;5;241m%\u001b[39mdiv \u001b[38;5;241m==\u001b[39m \u001b[38;5;241m0\u001b[39m:\n\u001b[0;32m      6\u001b[0m         f_count\u001b[38;5;241m=\u001b[39mf_count\u001b[38;5;241m+\u001b[39m\u001b[38;5;241m1\u001b[39m\n",
      "\u001b[1;31mKeyboardInterrupt\u001b[0m: "
     ]
    }
   ],
   "source": [
    "num=int(input(\"num : \"))\n",
    "div = 2\n",
    "f_count = 0\n",
    "while div < num :\n",
    "    if num %div == 0:\n",
    "        f_count=f_count+1\n",
    "        div=div +1\n",
    "        if f_count>=1:\n",
    "            print(\"prime\")\n",
    "        else :\n",
    "            print (\"not prime\")\n",
    "            \n",
    "        "
   ]
  },
  {
   "cell_type": "code",
   "execution_count": null,
   "id": "e0da9df1-fa17-493c-b505-69ec930547e9",
   "metadata": {},
   "outputs": [],
   "source": [
    "# pyhton implementation \n",
    "module\n",
    "library\n",
    "guido rassom\n",
    "library----modules ----reuse moduler-------function ---to perform function"
   ]
  },
  {
   "cell_type": "code",
   "execution_count": 28,
   "id": "6e42d1a8-f060-441f-8664-5d044aed8302",
   "metadata": {},
   "outputs": [
    {
     "data": {
      "text/plain": [
       "True"
      ]
     },
     "execution_count": 28,
     "metadata": {},
     "output_type": "execute_result"
    }
   ],
   "source": [
    "import webbrowser\n",
    "webbrowser.open(\"https://www.youtube.com/watch?v=pTnWKvslwDU\")"
   ]
  },
  {
   "cell_type": "code",
   "execution_count": 27,
   "id": "1f2283a7-1de7-43b0-9de0-c5e4a303beb9",
   "metadata": {},
   "outputs": [],
   "source": [
    "import time"
   ]
  },
  {
   "cell_type": "code",
   "execution_count": null,
   "id": "7e52f568-8b57-4e2d-8428-9282c16f8524",
   "metadata": {},
   "outputs": [],
   "source": [
    "import time\n",
    "import webbrowser\n",
    "count = 0\n",
    "while count < 3\n",
    "  time.sleep[10]\n",
    "  webbrowser.open[link of website]\n",
    "  count+=1"
   ]
  },
  {
   "cell_type": "code",
   "execution_count": 18,
   "id": "20b1cc86-670b-44eb-a458-f49a4dc4b1a2",
   "metadata": {},
   "outputs": [
    {
     "ename": "TypeError",
     "evalue": "'new' is an invalid keyword argument for open()",
     "output_type": "error",
     "traceback": [
      "\u001b[1;31m---------------------------------------------------------------------------\u001b[0m",
      "\u001b[1;31mTypeError\u001b[0m                                 Traceback (most recent call last)",
      "Cell \u001b[1;32mIn[18], line 1\u001b[0m\n\u001b[1;32m----> 1\u001b[0m \u001b[38;5;28;43mopen\u001b[39;49m\u001b[43m(\u001b[49m\u001b[38;5;124;43m\"\u001b[39;49m\u001b[38;5;124;43mhttps://www.youtube.com/watch?v=pTnWKvslwDU\u001b[39;49m\u001b[38;5;124;43m\"\u001b[39;49m\u001b[43m,\u001b[49m\u001b[43mnew\u001b[49m\u001b[38;5;241;43m=\u001b[39;49m\u001b[38;5;241;43m0\u001b[39;49m\u001b[43m,\u001b[49m\u001b[43mautoraise\u001b[49m\u001b[38;5;241;43m=\u001b[39;49m\u001b[38;5;28;43;01mTrue\u001b[39;49;00m\u001b[43m)\u001b[49m\n",
      "File \u001b[1;32m~\\AppData\\Local\\Packages\\PythonSoftwareFoundation.Python.3.12_qbz5n2kfra8p0\\LocalCache\\local-packages\\Python312\\site-packages\\IPython\\core\\interactiveshell.py:324\u001b[0m, in \u001b[0;36m_modified_open\u001b[1;34m(file, *args, **kwargs)\u001b[0m\n\u001b[0;32m    317\u001b[0m \u001b[38;5;28;01mif\u001b[39;00m file \u001b[38;5;129;01min\u001b[39;00m {\u001b[38;5;241m0\u001b[39m, \u001b[38;5;241m1\u001b[39m, \u001b[38;5;241m2\u001b[39m}:\n\u001b[0;32m    318\u001b[0m     \u001b[38;5;28;01mraise\u001b[39;00m \u001b[38;5;167;01mValueError\u001b[39;00m(\n\u001b[0;32m    319\u001b[0m         \u001b[38;5;124mf\u001b[39m\u001b[38;5;124m\"\u001b[39m\u001b[38;5;124mIPython won\u001b[39m\u001b[38;5;124m'\u001b[39m\u001b[38;5;124mt let you open fd=\u001b[39m\u001b[38;5;132;01m{\u001b[39;00mfile\u001b[38;5;132;01m}\u001b[39;00m\u001b[38;5;124m by default \u001b[39m\u001b[38;5;124m\"\u001b[39m\n\u001b[0;32m    320\u001b[0m         \u001b[38;5;124m\"\u001b[39m\u001b[38;5;124mas it is likely to crash IPython. If you know what you are doing, \u001b[39m\u001b[38;5;124m\"\u001b[39m\n\u001b[0;32m    321\u001b[0m         \u001b[38;5;124m\"\u001b[39m\u001b[38;5;124myou can use builtins\u001b[39m\u001b[38;5;124m'\u001b[39m\u001b[38;5;124m open.\u001b[39m\u001b[38;5;124m\"\u001b[39m\n\u001b[0;32m    322\u001b[0m     )\n\u001b[1;32m--> 324\u001b[0m \u001b[38;5;28;01mreturn\u001b[39;00m \u001b[43mio_open\u001b[49m\u001b[43m(\u001b[49m\u001b[43mfile\u001b[49m\u001b[43m,\u001b[49m\u001b[43m \u001b[49m\u001b[38;5;241;43m*\u001b[39;49m\u001b[43margs\u001b[49m\u001b[43m,\u001b[49m\u001b[43m \u001b[49m\u001b[38;5;241;43m*\u001b[39;49m\u001b[38;5;241;43m*\u001b[39;49m\u001b[43mkwargs\u001b[49m\u001b[43m)\u001b[49m\n",
      "\u001b[1;31mTypeError\u001b[0m: 'new' is an invalid keyword argument for open()"
     ]
    }
   ],
   "source": [
    "open(\"https://www.youtube.com/watch?v=pTnWKvslwDU\",new=0,autoraise=True)"
   ]
  },
  {
   "cell_type": "code",
   "execution_count": 24,
   "id": "bf69a663-bf6d-4dcf-a82c-5672bd85ab70",
   "metadata": {},
   "outputs": [
    {
     "ename": "SyntaxError",
     "evalue": "invalid syntax (2659678682.py, line 1)",
     "output_type": "error",
     "traceback": [
      "\u001b[1;36m  Cell \u001b[1;32mIn[24], line 1\u001b[1;36m\u001b[0m\n\u001b[1;33m    open_new(https://www.youtube.com/watch?v=pTnWKvslwDU)\u001b[0m\n\u001b[1;37m                  ^\u001b[0m\n\u001b[1;31mSyntaxError\u001b[0m\u001b[1;31m:\u001b[0m invalid syntax\n"
     ]
    }
   ],
   "source": [
    "open_new(https://www.youtube.com/watch?v=pTnWKvslwDU)"
   ]
  },
  {
   "cell_type": "code",
   "execution_count": null,
   "id": "89f3b635-945b-4082-a14b-d7a31dc12053",
   "metadata": {},
   "outputs": [],
   "source": []
  },
  {
   "cell_type": "code",
   "execution_count": 10,
   "id": "0b325f8c-76f6-45b1-bee1-c0a63bb64d29",
   "metadata": {},
   "outputs": [
    {
     "name": "stdin",
     "output_type": "stream",
     "text": [
      "num :  5\n"
     ]
    },
    {
     "name": "stdout",
     "output_type": "stream",
     "text": [
      "not prime\n"
     ]
    }
   ],
   "source": [
    "num=int(input(\"num : \"))\n",
    "div = 1\n",
    "f_count = 0\n",
    "while div < num :\n",
    "    if num %div == 0:\n",
    "        f_count=f_count+1\n",
    "    div=div +1\n",
    "if f_count>=2:\n",
    "    print(\"not prime\")\n",
    "else :\n",
    "    print (\"prime\")"
   ]
  },
  {
   "cell_type": "code",
   "execution_count": 33,
   "id": "32a86e6d-a69c-45d6-93f1-d958f43cb0ed",
   "metadata": {},
   "outputs": [],
   "source": [
    "a =10\n",
    "b=7\n",
    "c=19\n",
    "if (a>b &a>c):\n",
    "    print(a)\n",
    "elif(b>a &b>c):\n",
    "    print(b)\n",
    "else :\n",
    "    (c)"
   ]
  },
  {
   "cell_type": "code",
   "execution_count": 40,
   "id": "85fc013b-c58a-4e3c-8467-a20aebd671db",
   "metadata": {},
   "outputs": [],
   "source": [
    "a =10\n",
    "b=7\n",
    "c=19\n",
    "if (a>b and a>c):\n",
    "    print(a)\n",
    "elif(b>a and b>c):\n",
    "    print(b)\n",
    "else:\n",
    "    (c)"
   ]
  },
  {
   "cell_type": "code",
   "execution_count": null,
   "id": "9476b582-86c5-4799-a800-9b511a50e315",
   "metadata": {},
   "outputs": [],
   "source": []
  }
 ],
 "metadata": {
  "kernelspec": {
   "display_name": "Python 3 (ipykernel)",
   "language": "python",
   "name": "python3"
  },
  "language_info": {
   "codemirror_mode": {
    "name": "ipython",
    "version": 3
   },
   "file_extension": ".py",
   "mimetype": "text/x-python",
   "name": "python",
   "nbconvert_exporter": "python",
   "pygments_lexer": "ipython3",
   "version": "3.12.3"
  }
 },
 "nbformat": 4,
 "nbformat_minor": 5
}
