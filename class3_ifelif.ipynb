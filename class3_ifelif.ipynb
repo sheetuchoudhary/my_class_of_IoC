{
 "cells": [
  {
   "cell_type": "code",
   "execution_count": 3,
   "id": "d1aedc54-939a-48dc-8cc9-7122ebaf4b54",
   "metadata": {},
   "outputs": [
    {
     "name": "stdin",
     "output_type": "stream",
     "text": [
      "enter n :  4\n"
     ]
    },
    {
     "name": "stdout",
     "output_type": "stream",
     "text": [
      "1\n"
     ]
    },
    {
     "name": "stdin",
     "output_type": "stream",
     "text": [
      "enter m :  2\n"
     ]
    },
    {
     "name": "stdout",
     "output_type": "stream",
     "text": [
      "1\n"
     ]
    }
   ],
   "source": [
    "n = int(input(\"enter n : \"))\n",
    "if (n%2==0):\n",
    "    print(\"1\")\n",
    "    m = int(input(\"enter m : \"))\n",
    "    if (m%2==0):\n",
    "       print(\"1\")\n",
    "    else :\n",
    "        print(\"2\")\n",
    "    \n",
    "else :\n",
    "    print(\"3\")\n",
    "   "
   ]
  },
  {
   "cell_type": "code",
   "execution_count": 22,
   "id": "e9d1bb36-0bd2-4984-96e6-cef905eba5e3",
   "metadata": {},
   "outputs": [
    {
     "name": "stdin",
     "output_type": "stream",
     "text": [
      "Enter choice : Netflix / Amazon_prime ___  amazon\n"
     ]
    },
    {
     "name": "stdout",
     "output_type": "stream",
     "text": [
      "1. Comedy \n",
      "2. Humor \n"
     ]
    }
   ],
   "source": [
    "choice = input(\"Enter choice : Netflix / Amazon_prime ___ \")\n",
    "if choice == \"Netflix\":\n",
    "    print(\"1. Horror \\n2. Trilled \")\n",
    "else :\n",
    "    print(\"1. Comedy \\n2. Humor \")"
   ]
  },
  {
   "cell_type": "code",
   "execution_count": 35,
   "id": "e80c8939-b61f-464e-9c18-4053dd531a5e",
   "metadata": {},
   "outputs": [
    {
     "name": "stdin",
     "output_type": "stream",
     "text": [
      "Enter num :  19\n"
     ]
    },
    {
     "name": "stdout",
     "output_type": "stream",
     "text": [
      "red\n"
     ]
    }
   ],
   "source": [
    "num = int(input(\"Enter num : \"))\n",
    "if (num>=5):\n",
    "    print(\"red\")\n",
    "elif (num>10):\n",
    "    print(\"green\")\n",
    "elif (num>0):\n",
    "    print(\"yellow\")\n",
    "        "
   ]
  },
  {
   "cell_type": "code",
   "execution_count": 36,
   "id": "1cb948b8-8078-45e7-9394-2ac3bc5fb6dc",
   "metadata": {},
   "outputs": [
    {
     "name": "stdin",
     "output_type": "stream",
     "text": [
      "Enter num :  4\n"
     ]
    },
    {
     "name": "stdout",
     "output_type": "stream",
     "text": [
      "yellow\n"
     ]
    }
   ],
   "source": [
    "#sequence of condition matters \n",
    "num = int(input(\"Enter num : \"))\n",
    "if (num>10):\n",
    "    print(\"red\")\n",
    "elif (num>=5):\n",
    "    print(\"green\")\n",
    "elif (num>0):\n",
    "    print(\"yellow\")"
   ]
  },
  {
   "cell_type": "code",
   "execution_count": null,
   "id": "ab3d191b-4560-42e5-87f8-d943cc9a3cc3",
   "metadata": {},
   "outputs": [],
   "source": [
    "#object in python\n",
    "#int/ string/foat/boolean [data types ]etc--------objets\n",
    "object.isdigit ______check digit in oject \n",
    "len(object)------length of object\n"
   ]
  },
  {
   "cell_type": "code",
   "execution_count": 45,
   "id": "981dafeb-2e79-45ef-8004-6a026c304486",
   "metadata": {},
   "outputs": [
    {
     "name": "stdout",
     "output_type": "stream",
     "text": [
      "0 t\n",
      "1 e\n",
      "2 s\n",
      "3 t\n"
     ]
    }
   ],
   "source": [
    "strn = \"test\"\n",
    "i=0\n",
    "while(i<len(strn)):\n",
    "    print(i,strn[i])\n",
    "    i+=1"
   ]
  },
  {
   "cell_type": "code",
   "execution_count": null,
   "id": "c2002331-3166-4c90-ba86-52e2ac269e08",
   "metadata": {},
   "outputs": [],
   "source": []
  }
 ],
 "metadata": {
  "kernelspec": {
   "display_name": "Python 3 (ipykernel)",
   "language": "python",
   "name": "python3"
  },
  "language_info": {
   "codemirror_mode": {
    "name": "ipython",
    "version": 3
   },
   "file_extension": ".py",
   "mimetype": "text/x-python",
   "name": "python",
   "nbconvert_exporter": "python",
   "pygments_lexer": "ipython3",
   "version": "3.12.3"
  }
 },
 "nbformat": 4,
 "nbformat_minor": 5
}
