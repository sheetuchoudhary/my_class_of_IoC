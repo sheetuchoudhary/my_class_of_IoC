{
 "cells": [
  {
   "cell_type": "code",
   "execution_count": 1,
   "id": "511db44d-0505-4969-b3d1-3c5c22a277d8",
   "metadata": {},
   "outputs": [
    {
     "name": "stdout",
     "output_type": "stream",
     "text": [
      "6\n"
     ]
    }
   ],
   "source": [
    "a = [4,1,6,0,2,5,12,20,10]\n",
    "print(a[2])"
   ]
  },
  {
   "cell_type": "code",
   "execution_count": 21,
   "id": "a6bd146a-8a5d-41a7-93da-09b969ec8e55",
   "metadata": {},
   "outputs": [
    {
     "name": "stdout",
     "output_type": "stream",
     "text": [
      "4\n",
      "1\n",
      "6\n",
      "0\n",
      "2\n",
      "5\n",
      "12\n",
      "20\n",
      "10\n"
     ]
    }
   ],
   "source": [
    "a = [4,1,6,0,2,5,12,20,10]\n",
    "for i in a :\n",
    "    print(i)"
   ]
  },
  {
   "cell_type": "code",
   "execution_count": 22,
   "id": "9a61531d-f5f2-47b1-b4db-58a217c09ec3",
   "metadata": {},
   "outputs": [
    {
     "name": "stdout",
     "output_type": "stream",
     "text": [
      "1\n",
      "1\n",
      "1\n",
      "1\n",
      "1\n",
      "1\n",
      "1\n",
      "1\n",
      "1\n"
     ]
    }
   ],
   "source": [
    "a = [4,1,6,0,2,5,12,20,10]\n",
    "for i in a :\n",
    "    print(a[1])"
   ]
  },
  {
   "cell_type": "code",
   "execution_count": 23,
   "id": "feba887f-1182-4b3f-95eb-e99bd408a610",
   "metadata": {},
   "outputs": [],
   "source": [
    "## material list "
   ]
  },
  {
   "cell_type": "code",
   "execution_count": 28,
   "id": "b07cae96-5a70-4aeb-9435-2f9f75825455",
   "metadata": {},
   "outputs": [
    {
     "name": "stdin",
     "output_type": "stream",
     "text": [
      " Total number of material :  3\n",
      " Item :  e\n",
      " Item :  f\n",
      " Item :  a\n"
     ]
    },
    {
     "name": "stdout",
     "output_type": "stream",
     "text": [
      "['e', 'f', 'a']\n",
      "Material Stored !!!\n"
     ]
    }
   ],
   "source": [
    "n = int(input(\" Total number of material : \"))\n",
    "material = []\n",
    "i=0\n",
    "while i<n :\n",
    "    l_m = (input(\" Item : \"))\n",
    "    material.append(l_m)\n",
    "    i+=1\n",
    "print(material)\n",
    "print(\"Material Stored !!!\")\n"
   ]
  },
  {
   "cell_type": "code",
   "execution_count": 31,
   "id": "7b0ff9db-a089-4e5b-9b9f-a50be5c98b27",
   "metadata": {},
   "outputs": [
    {
     "name": "stdin",
     "output_type": "stream",
     "text": [
      " Total number of material :  4\n",
      " Item :  e\n",
      " Item :  g\n",
      " Item :  i\n",
      " Item :  k\n"
     ]
    },
    {
     "name": "stdout",
     "output_type": "stream",
     "text": [
      "['e', 'g', 'i', 'k']\n",
      "Material Stored !!!\n",
      "______________________________________________________\n"
     ]
    },
    {
     "name": "stdin",
     "output_type": "stream",
     "text": [
      "Material to search :  k\n"
     ]
    },
    {
     "name": "stdout",
     "output_type": "stream",
     "text": [
      "Material Available \n"
     ]
    }
   ],
   "source": [
    "n = int(input(\" Total number of material : \"))\n",
    "material = []\n",
    "i=0\n",
    "while i<n :\n",
    "    l_m = (input(\" Item : \"))\n",
    "    material.append(l_m)\n",
    "    i+=1\n",
    "print(material)\n",
    "print(\"Material Stored !!!\")\n",
    "print(\"______________________________________________________\")\n",
    "\n",
    "s_m = input(\"Material to search : \")\n",
    "if s_m in material :\n",
    "    print(\"Material Available \")\n",
    "else :\n",
    "    print(\"Material Not Available \")"
   ]
  },
  {
   "cell_type": "code",
   "execution_count": 32,
   "id": "0762582a-916d-485c-910d-eb63e7a9ebe1",
   "metadata": {},
   "outputs": [
    {
     "name": "stdin",
     "output_type": "stream",
     "text": [
      " Total number of material :  3\n",
      " Item :  e\n",
      " Item :  g\n",
      " Item :  d\n"
     ]
    },
    {
     "name": "stdout",
     "output_type": "stream",
     "text": [
      "['e', 'g', 'd']\n",
      "Material Stored !!!\n",
      "______________________________________________________\n"
     ]
    },
    {
     "name": "stdin",
     "output_type": "stream",
     "text": [
      "Material to search :  d\n"
     ]
    },
    {
     "name": "stdout",
     "output_type": "stream",
     "text": [
      "Material Available \n"
     ]
    }
   ],
   "source": [
    "n = int(input(\" Total number of material : \"))\n",
    "material = []\n",
    "i=0\n",
    "while i<n :\n",
    "    l_m = (input(\" Item : \"))\n",
    "    material.append(l_m)\n",
    "    i+=1\n",
    "print(material)\n",
    "print(\"Material Stored !!!\")\n",
    "print(\"______________________________________________________\")\n",
    "\n",
    "s_m = input(\"Material to search : \")\n",
    "for j in material :\n",
    "    if j == s_m :\n",
    "        print(\"Material Available \")\n",
    "        break\n",
    "else :\n",
    "    print(\"Material Not Available \")"
   ]
  },
  {
   "cell_type": "code",
   "execution_count": 47,
   "id": "797f9080-a7eb-403f-b246-36f6f03f8865",
   "metadata": {},
   "outputs": [
    {
     "name": "stdin",
     "output_type": "stream",
     "text": [
      " num of items :  4\n",
      "value :  e\n",
      "value :  r\n",
      "value :  t\n",
      "value :  y\n"
     ]
    },
    {
     "name": "stdout",
     "output_type": "stream",
     "text": [
      "['e', 'r', 't', 'y']\n"
     ]
    },
    {
     "data": {
      "text/plain": [
       "['y', 't', 'r']"
      ]
     },
     "execution_count": 47,
     "metadata": {},
     "output_type": "execute_result"
    }
   ],
   "source": [
    "n = int(input(\" num of items : \"))\n",
    "a= []\n",
    "for i in range(n):\n",
    "    item = input(\"value : \")\n",
    "    a.append(item)\n",
    "print(a)\n",
    "a[-1:-n:-1]"
   ]
  },
  {
   "cell_type": "code",
   "execution_count": 48,
   "id": "6d0fe25c-5319-442a-af14-29f343daa89a",
   "metadata": {},
   "outputs": [
    {
     "name": "stdin",
     "output_type": "stream",
     "text": [
      " num of items :  3\n",
      "value :  e\n",
      "value :  r\n",
      "value :  t\n"
     ]
    },
    {
     "name": "stdout",
     "output_type": "stream",
     "text": [
      "['e', 'r', 't']\n"
     ]
    },
    {
     "data": {
      "text/plain": [
       "['t', 'r', 'e']"
      ]
     },
     "execution_count": 48,
     "metadata": {},
     "output_type": "execute_result"
    }
   ],
   "source": [
    "n = int(input(\" num of items : \"))\n",
    "a= []\n",
    "for i in range(n):\n",
    "    item = input(\"value : \")\n",
    "    a.append(item)\n",
    "print(a)\n",
    "a[-1:-n-1:-1]"
   ]
  },
  {
   "cell_type": "code",
   "execution_count": 41,
   "id": "77592d7c-4d5a-405d-b3d0-f26c57836d77",
   "metadata": {},
   "outputs": [
    {
     "name": "stdin",
     "output_type": "stream",
     "text": [
      " num of items :  4\n",
      "value :  w\n",
      "value :  e\n",
      "value :  r\n",
      "value :  t\n"
     ]
    },
    {
     "name": "stdout",
     "output_type": "stream",
     "text": [
      "['w', 'e', 'r', 't']\n"
     ]
    },
    {
     "data": {
      "text/plain": [
       "['t', 'r', 'e', 'w']"
      ]
     },
     "execution_count": 41,
     "metadata": {},
     "output_type": "execute_result"
    }
   ],
   "source": [
    "n = int(input(\" num of items : \"))\n",
    "a= []\n",
    "for i in range(n):\n",
    "    item = input(\"value : \")\n",
    "    a.append(item)\n",
    "k=n+1\n",
    "print(a)\n",
    "a[-1:-k:-1]"
   ]
  },
  {
   "cell_type": "code",
   "execution_count": 49,
   "id": "6b61c87f-6bde-428c-92ae-79400fb561bb",
   "metadata": {},
   "outputs": [
    {
     "name": "stdin",
     "output_type": "stream",
     "text": [
      " n :  5\n"
     ]
    },
    {
     "name": "stdout",
     "output_type": "stream",
     "text": [
      "120\n"
     ]
    }
   ],
   "source": [
    "n= int(input(\" n : \"))\n",
    "fact = 1\n",
    "for i in range(1,n+1):\n",
    "    fact = fact*i\n",
    "print(fact)"
   ]
  },
  {
   "cell_type": "code",
   "execution_count": 50,
   "id": "f7e2c6bd-3dd3-4b5e-ac1b-3d9aeb1003b5",
   "metadata": {},
   "outputs": [
    {
     "name": "stdin",
     "output_type": "stream",
     "text": [
      " n :  4\n",
      " r :  3\n"
     ]
    },
    {
     "name": "stdout",
     "output_type": "stream",
     "text": [
      "24\n",
      "6\n",
      "1\n"
     ]
    }
   ],
   "source": [
    "n= int(input(\" n : \"))\n",
    "r= int(input(\" r : \"))\n",
    "fn= 1\n",
    "fr= 1\n",
    "fnr= 1\n",
    "for i in range(1,n+1):\n",
    "    fn = fn*i\n",
    "print(\"facfn)\n",
    "for i in range(1,r+1):\n",
    "    fr = fr*i\n",
    "print(\"factorial of r : \"fr)\n",
    "for i in range(1,n-r+1):\n",
    "    fnr = fnr*i\n",
    "print(\"factorial of n-r : \"fnr)\n",
    "\n",
    "solu = fn/(fnr * fr)\n",
    "print(\"solution : \"solu)"
   ]
  },
  {
   "cell_type": "code",
   "execution_count": 1,
   "id": "e9092710-070c-4da0-9aa7-380a1ea1e4de",
   "metadata": {},
   "outputs": [
    {
     "name": "stdin",
     "output_type": "stream",
     "text": [
      " 5\n",
      "value :  1\n",
      "value :  2\n",
      "value :  3\n",
      "value :  4\n",
      "value :  5\n",
      "search :  4\n"
     ]
    },
    {
     "name": "stdout",
     "output_type": "stream",
     "text": [
      "Inddex of  4  =  3\n"
     ]
    }
   ],
   "source": [
    "M = int(input())\n",
    "l=[]\n",
    "for i in range(M):\n",
    "    v = (input(\"value : \"))\n",
    "    l.append(v)\n",
    "N = input(\"search : \")\n",
    "for j in l:\n",
    "    if j == N:\n",
    "        ind = l.index(j)\n",
    "        print(\"Inddex of \",N,\" = \",ind)\n",
    "        break\n",
    "else :\n",
    "    print(\"Better Luck Next Time \")"
   ]
  },
  {
   "cell_type": "code",
   "execution_count": null,
   "id": "db2960c1-b049-40cd-9604-21d51ff14d8a",
   "metadata": {},
   "outputs": [],
   "source": []
  }
 ],
 "metadata": {
  "kernelspec": {
   "display_name": "Python 3 (ipykernel)",
   "language": "python",
   "name": "python3"
  },
  "language_info": {
   "codemirror_mode": {
    "name": "ipython",
    "version": 3
   },
   "file_extension": ".py",
   "mimetype": "text/x-python",
   "name": "python",
   "nbconvert_exporter": "python",
   "pygments_lexer": "ipython3",
   "version": "3.12.3"
  }
 },
 "nbformat": 4,
 "nbformat_minor": 5
}
