{
 "cells": [
  {
   "cell_type": "code",
   "execution_count": 30,
   "id": "dedfeca8-86fd-4987-9a49-5664b2ca01a0",
   "metadata": {},
   "outputs": [
    {
     "name": "stdout",
     "output_type": "stream",
     "text": [
      "2\n"
     ]
    }
   ],
   "source": [
    "a= 2\n",
    "print (a)"
   ]
  },
  {
   "cell_type": "code",
   "execution_count": 31,
   "id": "0c53d1c5-94dc-4f8d-972b-94b673ca070e",
   "metadata": {},
   "outputs": [
    {
     "name": "stdout",
     "output_type": "stream",
     "text": [
      "3\n"
     ]
    }
   ],
   "source": [
    "b= 3\n",
    "print(b)"
   ]
  },
  {
   "cell_type": "code",
   "execution_count": 32,
   "id": "70497c6e-320a-4fd4-9c44-14c77d6fef93",
   "metadata": {},
   "outputs": [
    {
     "name": "stdout",
     "output_type": "stream",
     "text": [
      "5\n"
     ]
    }
   ],
   "source": [
    "c = a+b\n",
    "print(c)"
   ]
  },
  {
   "cell_type": "code",
   "execution_count": 33,
   "id": "355485cb-e332-4aa8-b430-928e71473e49",
   "metadata": {},
   "outputs": [
    {
     "data": {
      "text/plain": [
       "140713103870456"
      ]
     },
     "execution_count": 33,
     "metadata": {},
     "output_type": "execute_result"
    }
   ],
   "source": [
    "f_name = \"Sheetal\"\n",
    "l_name = \"Choudhary\"\n",
    "roll_no = 20\n",
    "id(roll_no)\n",
    "id(f_name)\n",
    "id(l_name)\n",
    "#every data type in same address ....\n",
    "ary = [1,2,10]\n",
    "bry = [1,2,3]\n",
    "id(ary)\n",
    "id(bry)\n",
    "id(ary[0])\n",
    "id(ary[1])\n",
    "id(ary[2])\n",
    "id(bry[0])\n",
    "id(bry[1])\n",
    "id(bry[2])"
   ]
  },
  {
   "cell_type": "code",
   "execution_count": 35,
   "id": "5bfc5383-3500-4660-9651-52f7822c7fa7",
   "metadata": {},
   "outputs": [
    {
     "data": {
      "text/plain": [
       "b'\\x97\\x00d\\x01}\\x00|\\x00d\\x02z\\x05\\x00\\x00S\\x00'"
      ]
     },
     "execution_count": 35,
     "metadata": {},
     "output_type": "execute_result"
    }
   ],
   "source": [
    "miny.__code__.co_code"
   ]
  },
  {
   "cell_type": "code",
   "execution_count": 40,
   "id": "e414dc67-d717-4d96-a0cf-2b202bdb585b",
   "metadata": {},
   "outputs": [
    {
     "data": {
      "text/plain": [
       "<code object miny at 0x000001DEA9A6A800, file \"C:\\Users\\Sheetal\\AppData\\Local\\Temp\\ipykernel_9604\\3770972507.py\", line 2>"
      ]
     },
     "execution_count": 40,
     "metadata": {},
     "output_type": "execute_result"
    }
   ],
   "source": [
    "#function - attributes __code__\n",
    "def miny():\n",
    "    month = 12\n",
    "    return month*2\n",
    "miny.__code__"
   ]
  },
  {
   "cell_type": "raw",
   "id": "bd0f86b3-14cc-447d-acf2-7e94b726a452",
   "metadata": {},
   "source": [
    "import dis\n",
    "dis.dis(miny)"
   ]
  },
  {
   "cell_type": "code",
   "execution_count": 48,
   "id": "57115b8f-4ce9-4157-93de-6d3b9641ec5c",
   "metadata": {},
   "outputs": [
    {
     "ename": "NameError",
     "evalue": "name 'dis' is not defined",
     "output_type": "error",
     "traceback": [
      "\u001b[1;31m---------------------------------------------------------------------------\u001b[0m",
      "\u001b[1;31mNameError\u001b[0m                                 Traceback (most recent call last)",
      "Cell \u001b[1;32mIn[48], line 9\u001b[0m\n\u001b[0;32m      7\u001b[0m trail\u001b[38;5;241m.\u001b[39m\u001b[38;5;18m__code__\u001b[39m\n\u001b[0;32m      8\u001b[0m trail\u001b[38;5;241m.\u001b[39m\u001b[38;5;18m__code__\u001b[39m\u001b[38;5;241m.\u001b[39mco_code\n\u001b[1;32m----> 9\u001b[0m \u001b[43mdis\u001b[49m\u001b[38;5;241m.\u001b[39mdis(trail)\n",
      "\u001b[1;31mNameError\u001b[0m: name 'dis' is not defined"
     ]
    }
   ],
   "source": [
    "def trail():\n",
    "    for i in range (10):\n",
    "        i+=1\n",
    "    return i\n",
    "    trail()\n",
    "\n",
    "trail.__code__\n",
    "trail.__code__.co_code\n",
    "##dis.dis(trail)"
   ]
  },
  {
   "cell_type": "code",
   "execution_count": 44,
   "id": "ce01d638-3a58-4c30-8f9a-1023c170e3ea",
   "metadata": {},
   "outputs": [
    {
     "data": {
      "text/plain": [
       "124"
      ]
     },
     "execution_count": 44,
     "metadata": {},
     "output_type": "execute_result"
    }
   ],
   "source": [
    "ord('|')"
   ]
  },
  {
   "cell_type": "code",
   "execution_count": 38,
   "id": "ec1b8877-8396-4869-8a04-d182aa964392",
   "metadata": {},
   "outputs": [
    {
     "data": {
      "text/plain": [
       "49"
      ]
     },
     "execution_count": 38,
     "metadata": {},
     "output_type": "execute_result"
    }
   ],
   "source": [
    "ord('1')"
   ]
  },
  {
   "cell_type": "code",
   "execution_count": null,
   "id": "6393ba7a-e0db-4304-bccd-2395ff8771d3",
   "metadata": {},
   "outputs": [],
   "source": []
  }
 ],
 "metadata": {
  "kernelspec": {
   "display_name": "Python 3 (ipykernel)",
   "language": "python",
   "name": "python3"
  },
  "language_info": {
   "codemirror_mode": {
    "name": "ipython",
    "version": 3
   },
   "file_extension": ".py",
   "mimetype": "text/x-python",
   "name": "python",
   "nbconvert_exporter": "python",
   "pygments_lexer": "ipython3",
   "version": "3.12.2"
  }
 },
 "nbformat": 4,
 "nbformat_minor": 5
}
