{
 "cells": [
  {
   "cell_type": "code",
   "execution_count": 1,
   "id": "7e8ac3f2-a77f-4170-8b5a-bec21ed1f17d",
   "metadata": {},
   "outputs": [],
   "source": [
    "class Person:\n",
    "    def __init__(self):\n",
    "        self.d\n",
    "    def name(self ,name):\n",
    "        get.self.name \n",
    "    def dob(self ,dob):\n",
    "        get.self.dob \n",
    "    def age(self ,age):\n",
    "        get.self.age\n",
    "    def gender(self ,gender):\n",
    "        get.self.gender\n",
    "    def pob(self ,pob):\n",
    "        get.self.pob"
   ]
  },
  {
   "cell_type": "code",
   "execution_count": null,
   "id": "e418b437-73ad-4d89-bed2-600965731ef3",
   "metadata": {},
   "outputs": [],
   "source": [
    "class Person:\n",
    "    def __init__(self):\n",
    "        self.name \n",
    "        self.dob\n",
    "        self.age\n",
    "        self.gender\n",
    "        self.pob\n",
    "    def __details__(self,name,dob,age,gender,pob):\n",
    "        self.name = name"
   ]
  },
  {
   "cell_type": "code",
   "execution_count": 5,
   "id": "5ba279a6-dfb5-4c5d-bb0f-97347f4e72f1",
   "metadata": {},
   "outputs": [
    {
     "ename": "IndentationError",
     "evalue": "unindent does not match any outer indentation level (<string>, line 12)",
     "output_type": "error",
     "traceback": [
      "\u001b[1;36m  File \u001b[1;32m<string>:12\u001b[1;36m\u001b[0m\n\u001b[1;33m    class AU_Person(Person):\u001b[0m\n\u001b[1;37m                            ^\u001b[0m\n\u001b[1;31mIndentationError\u001b[0m\u001b[1;31m:\u001b[0m unindent does not match any outer indentation level\n"
     ]
    }
   ],
   "source": [
    "class Person():\n",
    "    def __init__(self,name):\n",
    "        self.name = name\n",
    "        self.dob = None\n",
    "    \n",
    "    def get_name(self):\n",
    "        return self.name\n",
    "    \n",
    "    def get_dob(self):\n",
    "        return self.dob\n",
    "    \n",
    " class AU_Person(Person):\n",
    "     def __init__(self,name) :\n",
    "         super().__init__(name)\n",
    "     \n",
    "AU1 = AU_Person('Radhe Radhe')\n",
    "print(AU1.get_name())"
   ]
  },
  {
   "cell_type": "code",
   "execution_count": 11,
   "id": "33cda3d7-81d4-43e7-af47-8f48bdae623b",
   "metadata": {},
   "outputs": [
    {
     "name": "stdout",
     "output_type": "stream",
     "text": [
      "<__main__.demo object at 0x00000150442D79B0>\n"
     ]
    }
   ],
   "source": [
    "class demo():\n",
    "    def __init__(self,name):\n",
    "        #self._name = 'rushi'\n",
    "        self.__name = 'rushi'\n",
    "        \n",
    "a= demo('ram')\n",
    "print(a)\n"
   ]
  },
  {
   "cell_type": "code",
   "execution_count": 18,
   "id": "7cee598f-5ab1-450b-8593-949b4ab952e5",
   "metadata": {},
   "outputs": [
    {
     "name": "stdout",
     "output_type": "stream",
     "text": [
      " adult \n"
     ]
    }
   ],
   "source": [
    "class Person_age():\n",
    "    def __init__(self,name ,age ):\n",
    "        self.name= name\n",
    "        self.age = age\n",
    "    @staticmethod\n",
    "    def check_age(age):\n",
    "        if age < 18:\n",
    "            return ' not adult '\n",
    "        else :\n",
    "            return ' adult '\n",
    "o = Person_age('ram' , 20)\n",
    "b = o.check_age(20)\n",
    "print(b)\n"
   ]
  },
  {
   "cell_type": "code",
   "execution_count": 2,
   "id": "08e92a0c-90c4-45be-8859-c36c0adb0882",
   "metadata": {},
   "outputs": [
    {
     "name": "stdout",
     "output_type": "stream",
     "text": [
      "Ram\n",
      "AU23B101\n",
      "<__main__.AU_Person object at 0x000001B452E9E180> id number is  AU23B101\n"
     ]
    },
    {
     "data": {
      "text/plain": [
       "'    def get_course(self):\\n        return self.course\\n    \\n    def get_year(self):\\n        return self.year\\n    \\nclass Student():\\n    def __init__(self,name,course,year):    \\n        super().__init__(name)\\n        super().__init__(course)\\n        super().__init__(year)\\n        \\nAU1 = AU_Person(name)\\n    print(AU1.get_name())\\n    print(AU1.get_id())'"
      ]
     },
     "execution_count": 2,
     "metadata": {},
     "output_type": "execute_result"
    }
   ],
   "source": [
    "class Person():\n",
    "    def __init__(self,name):\n",
    "        self.name = name\n",
    "        self.dob = None\n",
    "    \n",
    "    def get_name(self):\n",
    "        return self.name\n",
    "    \n",
    "    def get_dob(self):\n",
    "        return self.dob\n",
    "    \n",
    "    \n",
    "class AU_Person(Person):\n",
    "    _new_enroll = 1\n",
    "    def __init__(self,name) :\n",
    "        super().__init__(name)\n",
    "        self._id = AU_Person._new_enroll\n",
    "        AU_Person._new_enroll +=1\n",
    "        #self._strval = 'AU23B10'+str(self._id)\n",
    "        \n",
    "    \n",
    "        \n",
    "    def get_id(self):\n",
    "        a = 'AU23B10'\n",
    "        return a+str(self._id)\n",
    "       # return self._strval\n",
    "    \n",
    "    #def __str__(self):\n",
    "     #   return str(self.name)\n",
    "    \n",
    "   # def __len__(self):\n",
    "    #    return len(self._id)\n",
    "  \n",
    "AU1 = AU_Person('Ram')\n",
    "print(AU1.get_name())\n",
    "print(AU1.get_id())\n",
    "#print(AU1.__len__())\n",
    "    \n",
    "print(str(AU1) + ' id number is ', str(AU1.get_id()))\n",
    "\n",
    "    \n",
    "    \n",
    "'''    def get_course(self):\n",
    "        return self.course\n",
    "    \n",
    "    def get_year(self):\n",
    "        return self.year\n",
    "    \n",
    "class Student():\n",
    "    def __init__(self,name,course,year):    \n",
    "        super().__init__(name)\n",
    "        super().__init__(course)\n",
    "        super().__init__(year)\n",
    "        \n",
    "AU1 = AU_Person(name)\n",
    "    print(AU1.get_name())\n",
    "    print(AU1.get_id())'''"
   ]
  },
  {
   "cell_type": "code",
   "execution_count": null,
   "id": "3efdd60e-1add-4c19-9dcf-2405a96a0703",
   "metadata": {},
   "outputs": [],
   "source": []
  }
 ],
 "metadata": {
  "kernelspec": {
   "display_name": "Python 3 (ipykernel)",
   "language": "python",
   "name": "python3"
  },
  "language_info": {
   "codemirror_mode": {
    "name": "ipython",
    "version": 3
   },
   "file_extension": ".py",
   "mimetype": "text/x-python",
   "name": "python",
   "nbconvert_exporter": "python",
   "pygments_lexer": "ipython3",
   "version": "3.12.3"
  }
 },
 "nbformat": 4,
 "nbformat_minor": 5
}
