{
 "cells": [
  {
   "cell_type": "code",
   "execution_count": 1,
   "id": "12956dc9-c98c-4c92-99a8-85f53969433d",
   "metadata": {},
   "outputs": [
    {
     "data": {
      "text/plain": [
       "[1, 6, 4, 0, 12, 5, 3, 8, 0]"
      ]
     },
     "execution_count": 1,
     "metadata": {},
     "output_type": "execute_result"
    }
   ],
   "source": [
    "a=[10,1,6,4,0,12,5,3,8,0]\n",
    "a[1:]\n"
   ]
  },
  {
   "cell_type": "code",
   "execution_count": 2,
   "id": "11f7ed00-573d-42d7-b44e-e054e5ba90c8",
   "metadata": {},
   "outputs": [
    {
     "data": {
      "text/plain": [
       "[10]"
      ]
     },
     "execution_count": 2,
     "metadata": {},
     "output_type": "execute_result"
    }
   ],
   "source": [
    "a=[10,1,6,4,0,12,5,3,8,0]\n",
    "a[:1]"
   ]
  },
  {
   "cell_type": "code",
   "execution_count": 3,
   "id": "23308052-8e83-4a80-8ddd-a78044f97e93",
   "metadata": {},
   "outputs": [
    {
     "data": {
      "text/plain": [
       "[1, 6, 4, 0]"
      ]
     },
     "execution_count": 3,
     "metadata": {},
     "output_type": "execute_result"
    }
   ],
   "source": [
    "a=[10,1,6,4,0,12,5,3,8,0]\n",
    "a[1:5]"
   ]
  },
  {
   "cell_type": "code",
   "execution_count": 4,
   "id": "9564621a-99d8-4177-b60a-4d3114c37c8f",
   "metadata": {},
   "outputs": [
    {
     "data": {
      "text/plain": [
       "[]"
      ]
     },
     "execution_count": 4,
     "metadata": {},
     "output_type": "execute_result"
    }
   ],
   "source": [
    "a=[10,1,6,4,0,12,5,3,8,0]\n",
    "a[5:1]\n"
   ]
  },
  {
   "cell_type": "code",
   "execution_count": 6,
   "id": "79dc3d77-ea41-4f65-a8d7-f6bc2d5149ad",
   "metadata": {},
   "outputs": [
    {
     "data": {
      "text/plain": [
       "[10, 6, 0, 5, 8]"
      ]
     },
     "execution_count": 6,
     "metadata": {},
     "output_type": "execute_result"
    }
   ],
   "source": [
    "a=[10,1,6,4,0,12,5,3,8,0]\n",
    "a[::2]\n"
   ]
  },
  {
   "cell_type": "code",
   "execution_count": 5,
   "id": "a6313038-4da8-4627-9677-95a8e6fbc5ae",
   "metadata": {},
   "outputs": [
    {
     "data": {
      "text/plain": [
       "[1, 4, 12, 3]"
      ]
     },
     "execution_count": 5,
     "metadata": {},
     "output_type": "execute_result"
    }
   ],
   "source": [
    "a=[10,1,6,4,0,12,5,3,8,0]\n",
    "a[1:8:2]\n"
   ]
  },
  {
   "cell_type": "code",
   "execution_count": 7,
   "id": "8a63de96-4e74-4637-abf7-3f2d7942cb7d",
   "metadata": {},
   "outputs": [
    {
     "data": {
      "text/plain": [
       "[]"
      ]
     },
     "execution_count": 7,
     "metadata": {},
     "output_type": "execute_result"
    }
   ],
   "source": [
    "a=[10,1,6,4,0,12,5,3,8,0]\n",
    "a[-1:2]\n"
   ]
  },
  {
   "cell_type": "code",
   "execution_count": 11,
   "id": "5cb40cc9-14be-4f39-80fe-dbf8ce4b93de",
   "metadata": {},
   "outputs": [
    {
     "data": {
      "text/plain": [
       "[0, 8, 3, 5, 12, 0, 4, 6, 1, 10]"
      ]
     },
     "execution_count": 11,
     "metadata": {},
     "output_type": "execute_result"
    }
   ],
   "source": [
    "a=[10,1,6,4,0,12,5,3,8,0]\n",
    "a[-1:-11:-1]\n"
   ]
  },
  {
   "cell_type": "code",
   "execution_count": 12,
   "id": "c44f16b9-8164-4f3c-9331-9d0ae450d6bd",
   "metadata": {},
   "outputs": [
    {
     "data": {
      "text/plain": [
       "[0, 8, 3, 5, 12]"
      ]
     },
     "execution_count": 12,
     "metadata": {},
     "output_type": "execute_result"
    }
   ],
   "source": [
    "a=[10,1,6,4,0,12,5,3,8,0]\n",
    "a[-1:3+1:-1]"
   ]
  },
  {
   "cell_type": "code",
   "execution_count": 13,
   "id": "809a3932-54bc-4565-8add-264204d98957",
   "metadata": {},
   "outputs": [
    {
     "data": {
      "text/plain": [
       "[8, 3, 5, 12, 0, 4, 6, 1]"
      ]
     },
     "execution_count": 13,
     "metadata": {},
     "output_type": "execute_result"
    }
   ],
   "source": [
    "a=[10,1,6,4,0,12,5,3,8,0]\n",
    "a[8:0:-1]"
   ]
  },
  {
   "cell_type": "code",
   "execution_count": 26,
   "id": "4886ff65-e75c-47ee-9d99-28c3b55ff716",
   "metadata": {},
   "outputs": [
    {
     "data": {
      "text/plain": [
       "[0]"
      ]
     },
     "execution_count": 26,
     "metadata": {},
     "output_type": "execute_result"
    }
   ],
   "source": [
    "a=[10,1,6,0,3,12,5,3,8,0]\n",
    "a[-1:11:5]"
   ]
  },
  {
   "cell_type": "code",
   "execution_count": 30,
   "id": "df3cdc10-46b2-4415-aed4-55320b15ddd8",
   "metadata": {},
   "outputs": [
    {
     "data": {
      "text/plain": [
       "[3, 5]"
      ]
     },
     "execution_count": 30,
     "metadata": {},
     "output_type": "execute_result"
    }
   ],
   "source": [
    "a=[10,1,6,4,0,12,5,3,8,0]\n",
    "a[-3:5:-1]"
   ]
  },
  {
   "cell_type": "code",
   "execution_count": null,
   "id": "2acfb579-e9de-484b-92cb-6d2eb9b5a5b2",
   "metadata": {},
   "outputs": [],
   "source": []
  }
 ],
 "metadata": {
  "kernelspec": {
   "display_name": "Python 3 (ipykernel)",
   "language": "python",
   "name": "python3"
  },
  "language_info": {
   "codemirror_mode": {
    "name": "ipython",
    "version": 3
   },
   "file_extension": ".py",
   "mimetype": "text/x-python",
   "name": "python",
   "nbconvert_exporter": "python",
   "pygments_lexer": "ipython3",
   "version": "3.12.3"
  }
 },
 "nbformat": 4,
 "nbformat_minor": 5
}
