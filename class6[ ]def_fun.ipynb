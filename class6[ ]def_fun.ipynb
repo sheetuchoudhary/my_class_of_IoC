{
 "cells": [
  {
   "cell_type": "code",
   "execution_count": 1,
   "id": "f0fd7cd9-c676-4857-8229-949794b8553a",
   "metadata": {},
   "outputs": [
    {
     "data": {
      "text/plain": [
       "5"
      ]
     },
     "execution_count": 1,
     "metadata": {},
     "output_type": "execute_result"
    }
   ],
   "source": [
    "def add(x,y):\n",
    "    c=x+y\n",
    "    return c \n",
    "add(2,3)"
   ]
  },
  {
   "cell_type": "code",
   "execution_count": 2,
   "id": "9c3880e2-5fbd-4587-885c-6b74df4d52d7",
   "metadata": {},
   "outputs": [
    {
     "name": "stdout",
     "output_type": "stream",
     "text": [
      "None\n"
     ]
    }
   ],
   "source": [
    "def add(x,y):\n",
    "    c=x+y\n",
    "    \n",
    "print(add(2,3))"
   ]
  },
  {
   "cell_type": "code",
   "execution_count": 3,
   "id": "4af04c26-d8d4-41f4-9b8c-fa0e0b281941",
   "metadata": {},
   "outputs": [
    {
     "name": "stdout",
     "output_type": "stream",
     "text": [
      "5\n"
     ]
    }
   ],
   "source": [
    "def add(x,y):\n",
    "    c=x+y\n",
    "    return c\n",
    "print(add(2,3))"
   ]
  },
  {
   "cell_type": "code",
   "execution_count": 7,
   "id": "25a5ce5e-22d3-499e-8d57-80292896fdbe",
   "metadata": {},
   "outputs": [
    {
     "data": {
      "text/plain": [
       "24"
      ]
     },
     "execution_count": 7,
     "metadata": {},
     "output_type": "execute_result"
    }
   ],
   "source": [
    "def fact(n):\n",
    "    f=1\n",
    "    i=1\n",
    "    while i <=n:\n",
    "        f= n*fact(n-1)\n",
    "        i+=1\n",
    "    return f\n",
    "fact(4)"
   ]
  },
  {
   "cell_type": "code",
   "execution_count": 11,
   "id": "c12354cb-0856-4f16-b5ef-9f868c2c2c06",
   "metadata": {},
   "outputs": [
    {
     "data": {
      "text/plain": [
       "24"
      ]
     },
     "execution_count": 11,
     "metadata": {},
     "output_type": "execute_result"
    }
   ],
   "source": [
    "def fact(n):\n",
    "    f=1\n",
    "    for i in range(1,1+n):\n",
    "        f= f*i\n",
    "    return f\n",
    "fact(4)"
   ]
  },
  {
   "cell_type": "code",
   "execution_count": 12,
   "id": "3733fad4-7d6a-4cd3-a657-7b3fbd4d755a",
   "metadata": {},
   "outputs": [
    {
     "name": "stdin",
     "output_type": "stream",
     "text": [
      " Total number of material :  3\n",
      " Item :  ghj\n",
      " Item :  h\n",
      " Item :  e\n"
     ]
    },
    {
     "name": "stdout",
     "output_type": "stream",
     "text": [
      "['ghj', 'h', 'e']\n",
      "Material Stored !!!\n",
      "______________________________________________________\n"
     ]
    },
    {
     "name": "stdin",
     "output_type": "stream",
     "text": [
      "Material to search :  t\n"
     ]
    },
    {
     "name": "stdout",
     "output_type": "stream",
     "text": [
      "Material Not Availablr \n"
     ]
    }
   ],
   "source": [
    "def lab(n):\n",
    "    n = int(input(\" Total number of material : \"))\n",
    "    material = []\n",
    "    i=0\n",
    "    while i<n :\n",
    "        l_m = (input(\" Item : \"))\n",
    "        material.append(l_m)\n",
    "        i+=1\n",
    "    print(material)\n",
    "    print(\"Material Stored !!!\")\n",
    "    print(\"______________________________________________________\")\n",
    "\n",
    "    s_m = input(\"Material to search : \")\n",
    "    for j in material :\n",
    "        if j == s_m :\n",
    "            print(\"Material Available \")\n",
    "            break\n",
    "    else :\n",
    "        print(\"Material Not Available \")\n",
    "lab(4)"
   ]
  },
  {
   "cell_type": "code",
   "execution_count": null,
   "id": "c462ecb2-5c6a-48ee-82ea-af3c915f19df",
   "metadata": {},
   "outputs": [],
   "source": []
  }
 ],
 "metadata": {
  "kernelspec": {
   "display_name": "Python 3 (ipykernel)",
   "language": "python",
   "name": "python3"
  },
  "language_info": {
   "codemirror_mode": {
    "name": "ipython",
    "version": 3
   },
   "file_extension": ".py",
   "mimetype": "text/x-python",
   "name": "python",
   "nbconvert_exporter": "python",
   "pygments_lexer": "ipython3",
   "version": "3.12.3"
  }
 },
 "nbformat": 4,
 "nbformat_minor": 5
}
