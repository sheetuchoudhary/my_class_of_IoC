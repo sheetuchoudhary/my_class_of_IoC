{
 "cells": [
  {
   "cell_type": "code",
   "execution_count": 1,
   "id": "33d0c247-1598-4adf-9bb4-d9fd2e23ca5c",
   "metadata": {},
   "outputs": [
    {
     "name": "stdout",
     "output_type": "stream",
     "text": [
      "Preparing Your Order -  Chawal\n",
      "Preparing Your Order -  Paneer\n",
      "Preparing Your Order -  Chutney\n",
      "\n",
      "The following orders have been dispatched:\n",
      "Chawal\n",
      "Paneer\n",
      "Chutney\n"
     ]
    }
   ],
   "source": [
    "def get_order(c_order):\n",
    "    l_order=[] \n",
    "    for i in c_order:\n",
    "        l_order.append(i)\n",
    "        print('Preparing Your Order - ',i)\n",
    "\n",
    "    print('\\nThe following orders have been dispatched:')\n",
    "    l_order.reverse()\n",
    "    l_order.reverse()\n",
    "    for j in l_order:\n",
    "        print(j)\n",
    "       \n",
    "c_orders = ['Chawal','Paneer','Chutney']\n",
    "get_order(c_orders)"
   ]
  },
  {
   "cell_type": "code",
   "execution_count": 15,
   "id": "8ac3dc2d-16be-45c5-9e22-fa0b94a2522b",
   "metadata": {},
   "outputs": [
    {
     "name": "stdin",
     "output_type": "stream",
     "text": [
      "Search for Brand :  Zara\n",
      "User Name : d\n"
     ]
    },
    {
     "name": "stdout",
     "output_type": "stream",
     "text": [
      "y\n"
     ]
    }
   ],
   "source": [
    "''' \n",
    "Problem_1\n",
    "Program for problem_1 \n",
    "'''\n",
    "def get_name():\n",
    "    U_name = input(\"User Name :\")\n",
    "    return U_name\n",
    "\n",
    "def get_tshirt(brand_name):\n",
    "    User_name = get_name()\n",
    "    brands = ['Raymond','Puma','Adidas','Zara']\n",
    "    for i in brands:\n",
    "        if i==brand_name:\n",
    "            print(\"y\")\n",
    "            break\n",
    "            \n",
    "    else:\n",
    "        print('n')\n",
    "        \n",
    "        \n",
    "#taking brand name to be search \n",
    "b_name = input('Search for Brand : ')\n",
    "#calling function name get_tshirt\n",
    "get_tshirt(b_name)"
   ]
  },
  {
   "cell_type": "code",
   "execution_count": 10,
   "id": "518dca25-8612-4069-8cdc-4c0172434f52",
   "metadata": {},
   "outputs": [
    {
     "name": "stdout",
     "output_type": "stream",
     "text": [
      "B\n",
      "C\n",
      "D\n"
     ]
    },
    {
     "data": {
      "text/plain": [
       "mappingproxy({'__module__': '__main__', '__doc__': None})"
      ]
     },
     "execution_count": 10,
     "metadata": {},
     "output_type": "execute_result"
    }
   ],
   "source": [
    "class B(Exception):\n",
    "    pass\n",
    "\n",
    "class C(B):\n",
    "    pass\n",
    "\n",
    "class D(C):\n",
    "    pass\n",
    "\n",
    "for cls in [B, C, D]:\n",
    "    try:\n",
    "        raise cls()\n",
    "    except D:\n",
    "        print(\"D\")\n",
    "    except C:\n",
    "        print(\"C\")\n",
    "    except B:\n",
    "        print(\"B\")\n",
    "\n",
    "D.__dict__"
   ]
  },
  {
   "cell_type": "code",
   "execution_count": 5,
   "id": "739fac90-838c-4677-a98b-7ebaa81788b5",
   "metadata": {},
   "outputs": [
    {
     "data": {
      "text/plain": [
       "30"
      ]
     },
     "execution_count": 5,
     "metadata": {},
     "output_type": "execute_result"
    }
   ],
   "source": [
    "p1 = 10\n",
    "p2 = 20\n",
    "(p1).__add__(p2)\n"
   ]
  },
  {
   "cell_type": "code",
   "execution_count": null,
   "id": "9499ffc3-cf11-47e8-bcdb-ecd20e3ab492",
   "metadata": {},
   "outputs": [],
   "source": []
  }
 ],
 "metadata": {
  "kernelspec": {
   "display_name": "Python 3 (ipykernel)",
   "language": "python",
   "name": "python3"
  },
  "language_info": {
   "codemirror_mode": {
    "name": "ipython",
    "version": 3
   },
   "file_extension": ".py",
   "mimetype": "text/x-python",
   "name": "python",
   "nbconvert_exporter": "python",
   "pygments_lexer": "ipython3",
   "version": "3.12.3"
  }
 },
 "nbformat": 4,
 "nbformat_minor": 5
}
